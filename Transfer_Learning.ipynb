{
  "cells": [
    {
      "cell_type": "code",
      "execution_count": 1,
      "metadata": {
        "id": "pg8xHBq3Grb9"
      },
      "outputs": [],
      "source": [
        "import tensorflow as tf\n",
        "import pandas as pd\n",
        "import matplotlib.pyplot as plt\n",
        "import scipy\n",
        "from tensorflow.keras import Model\n",
        "from tensorflow.keras.layers import Conv2D, Dense, MaxPooling2D, Dropout, Flatten,GlobalAveragePooling2D\n",
        "from tensorflow.keras.models import Sequential\n",
        "from tensorflow.keras.preprocessing.image import ImageDataGenerator\n",
        "from tensorflow.keras.callbacks import ReduceLROnPlateau\n",
        "from tensorflow.keras.layers import Input, Lambda, Dense, Flatten\n",
        "from tensorflow.keras.models import Model\n",
        "from tensorflow.keras.applications.inception_v3 import InceptionV3\n",
        "from tensorflow.keras.applications.inception_v3 import preprocess_input\n",
        "from tensorflow.keras.preprocessing import image\n",
        "from tensorflow.keras.preprocessing.image import ImageDataGenerator,load_img\n",
        "from tensorflow.keras.models import Sequential\n",
        "from sklearn.metrics import classification_report\n",
        "import numpy as np\n",
        "from glob import glob"
      ]
    },
    {
      "cell_type": "code",
      "execution_count": 2,
      "metadata": {
        "colab": {
          "base_uri": "https://localhost:8080/"
        },
        "id": "hPNvMnEtIRMo",
        "outputId": "474b2fcf-4e2b-450f-8cac-7e26698f2e82"
      },
      "outputs": [
        {
          "name": "stdout",
          "output_type": "stream",
          "text": [
            "Done\n"
          ]
        }
      ],
      "source": [
        "from zipfile import ZipFile\n",
        "file_name = \"chest-ctscan-images.zip\"\n",
        "\n",
        "with ZipFile(file_name,'r') as zip:\n",
        "  zip.extractall()\n",
        "  print('Done')"
      ]
    },
    {
      "cell_type": "code",
      "execution_count": 3,
      "metadata": {
        "id": "KVM6bRw2IXlv"
      },
      "outputs": [],
      "source": [
        "# Use the Image Data Generator to import the images from the dataset\n",
        "from tensorflow.keras.preprocessing.image import ImageDataGenerator\n",
        "\n",
        "train_datagen = ImageDataGenerator(rescale = 1./255,\n",
        "                                   shear_range = 0.2,\n",
        "                                   zoom_range = 0.2,\n",
        "                                   horizontal_flip = True)\n",
        "\n",
        "test_datagen = ImageDataGenerator(rescale = 1./255)\n",
        "#no flip and zoom for test datase"
      ]
    },
    {
      "cell_type": "code",
      "execution_count": 4,
      "metadata": {},
      "outputs": [],
      "source": [
        "batch_size = 22"
      ]
    },
    {
      "cell_type": "code",
      "execution_count": 5,
      "metadata": {
        "colab": {
          "base_uri": "https://localhost:8080/"
        },
        "id": "3vXC2w3HIarW",
        "outputId": "ffa180a0-8a92-4706-ad1e-c9e8253d127e"
      },
      "outputs": [
        {
          "name": "stdout",
          "output_type": "stream",
          "text": [
            "Found 44 images belonging to 4 classes.\n"
          ]
        }
      ],
      "source": [
        "# Make sure you provide the same target size as initialied for the image size\n",
        "training_set = train_datagen.flow_from_directory('chest-ctscan-images/Data/train',\n",
        "                                                 target_size = (224, 224),\n",
        "                                                 batch_size = batch_size,\n",
        "                                                 class_mode = 'categorical')"
      ]
    },
    {
      "cell_type": "code",
      "execution_count": 6,
      "metadata": {},
      "outputs": [
        {
          "data": {
            "text/plain": [
              "{'adenocarcinoma_left.lower.lobe_T2_N0_M0_Ib': 0,\n",
              " 'large.cell.carcinoma_left.hilum_T2_N2_M0_IIIa': 1,\n",
              " 'normal': 2,\n",
              " 'squamous.cell.carcinoma_left.hilum_T1_N2_M0_IIIa': 3}"
            ]
          },
          "execution_count": 6,
          "metadata": {},
          "output_type": "execute_result"
        }
      ],
      "source": [
        "training_set.class_indices"
      ]
    },
    {
      "cell_type": "code",
      "execution_count": 7,
      "metadata": {
        "colab": {
          "base_uri": "https://localhost:8080/"
        },
        "id": "hQK-RDswMd7D",
        "outputId": "36531522-28a2-4d10-fc1c-7665a618de9f"
      },
      "outputs": [
        {
          "name": "stdout",
          "output_type": "stream",
          "text": [
            "Found 44 images belonging to 4 classes.\n"
          ]
        }
      ],
      "source": [
        "# Make sure you provide the same target size as initialied for the image size\n",
        "test_set = train_datagen.flow_from_directory('chest-ctscan-images/Data/test',\n",
        "                                                 target_size = (224, 224),\n",
        "                                                 batch_size = batch_size,\n",
        "                                                 class_mode = 'categorical')"
      ]
    },
    {
      "cell_type": "code",
      "execution_count": 8,
      "metadata": {},
      "outputs": [
        {
          "data": {
            "text/plain": [
              "{'adenocarcinoma': 0,\n",
              " 'large.cell.carcinoma': 1,\n",
              " 'normal': 2,\n",
              " 'squamous.cell.carcinoma': 3}"
            ]
          },
          "execution_count": 8,
          "metadata": {},
          "output_type": "execute_result"
        }
      ],
      "source": [
        "test_set.class_indices"
      ]
    },
    {
      "cell_type": "code",
      "execution_count": 9,
      "metadata": {},
      "outputs": [
        {
          "name": "stdout",
          "output_type": "stream",
          "text": [
            "22, 0\n"
          ]
        }
      ],
      "source": [
        "print(test_set.batch_size,test_set.batch_index, sep=', ')"
      ]
    },
    {
      "cell_type": "code",
      "execution_count": 10,
      "metadata": {
        "colab": {
          "base_uri": "https://localhost:8080/"
        },
        "id": "lvm7WVI5MeUv",
        "outputId": "57c8f763-9d6c-4ea3-d11e-b254a1e68854"
      },
      "outputs": [
        {
          "name": "stdout",
          "output_type": "stream",
          "text": [
            "Found 44 images belonging to 4 classes.\n"
          ]
        }
      ],
      "source": [
        "# Make sure you provide the same target size as initialied for the image size\n",
        "valid_set = train_datagen.flow_from_directory('chest-ctscan-images/Data/valid',\n",
        "                                                 target_size = (224, 224),\n",
        "                                                 batch_size = batch_size,\n",
        "                                                 class_mode = 'categorical')"
      ]
    },
    {
      "cell_type": "code",
      "execution_count": 11,
      "metadata": {},
      "outputs": [
        {
          "data": {
            "text/plain": [
              "{'adenocarcinoma_left.lower.lobe_T2_N0_M0_Ib': 0,\n",
              " 'large.cell.carcinoma_left.hilum_T2_N2_M0_IIIa': 1,\n",
              " 'normal': 2,\n",
              " 'squamous.cell.carcinoma_left.hilum_T1_N2_M0_IIIa': 3}"
            ]
          },
          "execution_count": 11,
          "metadata": {},
          "output_type": "execute_result"
        }
      ],
      "source": [
        "valid_set.class_indices"
      ]
    },
    {
      "cell_type": "code",
      "execution_count": 12,
      "metadata": {},
      "outputs": [],
      "source": [
        "InceptionV3_model = tf.keras.applications.InceptionV3(weights='imagenet', include_top=False, input_shape=(224, 224, 3))"
      ]
    },
    {
      "cell_type": "code",
      "execution_count": 13,
      "metadata": {},
      "outputs": [],
      "source": [
        "from tensorflow.keras import Model\n",
        "from tensorflow.keras.layers import Conv2D, Dense, MaxPooling2D, Dropout, Flatten,GlobalAveragePooling2D\n",
        "from tensorflow.keras.models import Sequential\n",
        "\n",
        "# The last 15 layers fine tune\n",
        "for layer in InceptionV3_model.layers[:-15]:\n",
        "    layer.trainable = False\n",
        "\n",
        "x = InceptionV3_model.output\n",
        "x = GlobalAveragePooling2D()(x)\n",
        "x = Flatten()(x)\n",
        "x = Dense(units=512, activation='relu')(x)\n",
        "x = Dropout(0.1)(x)\n",
        "x = Dense(units=512, activation='relu')(x)\n",
        "x = Dropout(0.1)(x)\n",
        "output  = Dense(units=4, activation='softmax')(x)\n",
        "model = Model(InceptionV3_model.input, output)\n"
      ]
    },
    {
      "cell_type": "code",
      "execution_count": 14,
      "metadata": {},
      "outputs": [
        {
          "name": "stdout",
          "output_type": "stream",
          "text": [
            "No of Layers:  318\n",
            "No of Conv layers:  94\n",
            "Total params:  231.1658 M\n",
            "Trainable params::  17.08676 M\n",
            "Non-trainable params::  214.07904 M\n"
          ]
        }
      ],
      "source": [
        "from tensorflow.python.keras.utils.layer_utils import count_params\n",
        "print('No of Layers: ', len(model.layers))\n",
        "print('No of Conv layers: ', len([layer for layer in model.layers if 'conv' in layer.name]))\n",
        "print('Total params: ', (model.count_params()/100000), 'M')\n",
        "print('Trainable params:: ', (count_params(model.trainable_weights)/100000), 'M')\n",
        "print('Non-trainable params:: ', (count_params(model.non_trainable_weights)/100000), 'M')"
      ]
    },
    {
      "cell_type": "code",
      "execution_count": null,
      "metadata": {},
      "outputs": [],
      "source": []
    },
    {
      "cell_type": "code",
      "execution_count": 15,
      "metadata": {
        "id": "1S37bcxpMvBO"
      },
      "outputs": [],
      "source": [
        "import tensorflow as tf\n",
        "import keras.losses\n",
        "\n",
        "optimizer1 = tf.keras.optimizers.Adam(learning_rate=0.001, beta_1=0.9)\n",
        "model.compile(optimizer=optimizer1, loss=keras.losses.CategoricalCrossentropy(), metrics=['accuracy'])"
      ]
    },
    {
      "cell_type": "code",
      "execution_count": 16,
      "metadata": {
        "colab": {
          "base_uri": "https://localhost:8080/"
        },
        "id": "fkPb8bt3Ic1Q",
        "outputId": "0c2a39fb-fd8a-482f-d225-167994a2383f"
      },
      "outputs": [
        {
          "name": "stdout",
          "output_type": "stream",
          "text": [
            "Epoch 1/15\n"
          ]
        },
        {
          "name": "stderr",
          "output_type": "stream",
          "text": [
            "c:\\Users\\surya\\AppData\\Local\\Programs\\Python\\Python312\\Lib\\site-packages\\keras\\src\\trainers\\data_adapters\\py_dataset_adapter.py:122: UserWarning: Your `PyDataset` class should call `super().__init__(**kwargs)` in its constructor. `**kwargs` can include `workers`, `use_multiprocessing`, `max_queue_size`. Do not pass these arguments to `fit()`, as they will be ignored.\n",
            "  self._warn_if_super_not_called()\n"
          ]
        },
        {
          "name": "stdout",
          "output_type": "stream",
          "text": [
            "\u001b[1m2/2\u001b[0m \u001b[32m━━━━━━━━━━━━━━━━━━━━\u001b[0m\u001b[37m\u001b[0m \u001b[1m12s\u001b[0m 4s/step - accuracy: 0.3333 - loss: 1.5405 - val_accuracy: 0.2955 - val_loss: 1.4021\n",
            "Epoch 2/15\n",
            "\u001b[1m2/2\u001b[0m \u001b[32m━━━━━━━━━━━━━━━━━━━━\u001b[0m\u001b[37m\u001b[0m \u001b[1m3s\u001b[0m 2s/step - accuracy: 0.5606 - loss: 1.0385 - val_accuracy: 0.2500 - val_loss: 1.6821\n",
            "Epoch 3/15\n",
            "\u001b[1m2/2\u001b[0m \u001b[32m━━━━━━━━━━━━━━━━━━━━\u001b[0m\u001b[37m\u001b[0m \u001b[1m3s\u001b[0m 2s/step - accuracy: 0.6061 - loss: 0.6937 - val_accuracy: 0.2500 - val_loss: 2.1737\n",
            "Epoch 4/15\n",
            "\u001b[1m2/2\u001b[0m \u001b[32m━━━━━━━━━━━━━━━━━━━━\u001b[0m\u001b[37m\u001b[0m \u001b[1m3s\u001b[0m 2s/step - accuracy: 0.7121 - loss: 0.6897 - val_accuracy: 0.2500 - val_loss: 2.1594\n",
            "Epoch 5/15\n",
            "\u001b[1m2/2\u001b[0m \u001b[32m━━━━━━━━━━━━━━━━━━━━\u001b[0m\u001b[37m\u001b[0m \u001b[1m3s\u001b[0m 2s/step - accuracy: 0.8030 - loss: 0.4832 - val_accuracy: 0.2273 - val_loss: 1.9989\n",
            "Epoch 6/15\n",
            "\u001b[1m2/2\u001b[0m \u001b[32m━━━━━━━━━━━━━━━━━━━━\u001b[0m\u001b[37m\u001b[0m \u001b[1m3s\u001b[0m 2s/step - accuracy: 0.8788 - loss: 0.3635 - val_accuracy: 0.2500 - val_loss: 2.1209\n",
            "Epoch 7/15\n",
            "\u001b[1m2/2\u001b[0m \u001b[32m━━━━━━━━━━━━━━━━━━━━\u001b[0m\u001b[37m\u001b[0m \u001b[1m3s\u001b[0m 2s/step - accuracy: 0.9091 - loss: 0.2958 - val_accuracy: 0.2500 - val_loss: 2.3999\n",
            "Epoch 8/15\n",
            "\u001b[1m2/2\u001b[0m \u001b[32m━━━━━━━━━━━━━━━━━━━━\u001b[0m\u001b[37m\u001b[0m \u001b[1m3s\u001b[0m 2s/step - accuracy: 0.9394 - loss: 0.2853 - val_accuracy: 0.3864 - val_loss: 2.1747\n",
            "Epoch 9/15\n",
            "\u001b[1m2/2\u001b[0m \u001b[32m━━━━━━━━━━━━━━━━━━━━\u001b[0m\u001b[37m\u001b[0m \u001b[1m3s\u001b[0m 2s/step - accuracy: 0.8636 - loss: 0.2220 - val_accuracy: 0.3182 - val_loss: 1.9966\n",
            "Epoch 10/15\n",
            "\u001b[1m2/2\u001b[0m \u001b[32m━━━━━━━━━━━━━━━━━━━━\u001b[0m\u001b[37m\u001b[0m \u001b[1m3s\u001b[0m 2s/step - accuracy: 0.9848 - loss: 0.1144 - val_accuracy: 0.3409 - val_loss: 2.4860\n",
            "Epoch 11/15\n",
            "\u001b[1m2/2\u001b[0m \u001b[32m━━━━━━━━━━━━━━━━━━━━\u001b[0m\u001b[37m\u001b[0m \u001b[1m3s\u001b[0m 2s/step - accuracy: 0.9242 - loss: 0.1681 - val_accuracy: 0.2955 - val_loss: 2.4071\n",
            "Epoch 12/15\n",
            "\u001b[1m2/2\u001b[0m \u001b[32m━━━━━━━━━━━━━━━━━━━━\u001b[0m\u001b[37m\u001b[0m \u001b[1m3s\u001b[0m 2s/step - accuracy: 0.9697 - loss: 0.0842 - val_accuracy: 0.3636 - val_loss: 2.5998\n",
            "Epoch 13/15\n",
            "\u001b[1m2/2\u001b[0m \u001b[32m━━━━━━━━━━━━━━━━━━━━\u001b[0m\u001b[37m\u001b[0m \u001b[1m3s\u001b[0m 2s/step - accuracy: 0.9697 - loss: 0.0955 - val_accuracy: 0.3182 - val_loss: 2.2044\n",
            "Epoch 14/15\n",
            "\u001b[1m2/2\u001b[0m \u001b[32m━━━━━━━━━━━━━━━━━━━━\u001b[0m\u001b[37m\u001b[0m \u001b[1m3s\u001b[0m 2s/step - accuracy: 0.9848 - loss: 0.0883 - val_accuracy: 0.4545 - val_loss: 2.3326\n",
            "Epoch 15/15\n",
            "\u001b[1m2/2\u001b[0m \u001b[32m━━━━━━━━━━━━━━━━━━━━\u001b[0m\u001b[37m\u001b[0m \u001b[1m3s\u001b[0m 2s/step - accuracy: 1.0000 - loss: 0.0501 - val_accuracy: 0.5227 - val_loss: 1.8639\n"
          ]
        }
      ],
      "source": [
        "# fit the model\n",
        "# Run the cell. It will take some time to execute\n",
        "r = model.fit(\n",
        "  training_set,\n",
        "  validation_data=test_set,\n",
        "  epochs=15,\n",
        "  # steps_per_epoch=len(training_set),\n",
        "  # validation_steps=len(test_set)\n",
        ")"
      ]
    },
    {
      "cell_type": "code",
      "execution_count": 48,
      "metadata": {},
      "outputs": [
        {
          "name": "stdout",
          "output_type": "stream",
          "text": [
            "[2 0 1 3 3 3 0 3 3 2 2 1 3 2 0 0 1 1 0 0 0 2 1 0 3 3 0 1 2 1 1 2 3 0 3 3 2\n",
            " 1 2 0 1 2 1 2]\n",
            "44\n",
            "(array([0, 1, 2, 3], dtype=int64), array([11, 11, 11, 11], dtype=int64))\n"
          ]
        }
      ],
      "source": [
        "pred_set = valid_set\n",
        "n = len(pred_set)\n",
        "input_lst = []\n",
        "output_lst = []\n",
        "for i in range(n): \n",
        "    set1 = next(training_set)\n",
        "    input1 = set1[0]\n",
        "    output1 = set1[1]\n",
        "    y_true1 = np.argmax(output1, axis=1)\n",
        "    input_lst.append(input1)\n",
        "    output_lst.extend(y_true1)\n",
        "input_arr = np.concatenate(input_lst)\n",
        "output_lst = np.array(output_lst)\n",
        "print(output_lst)\n",
        "print(len(output_lst))\n",
        "print(np.unique(output_lst, return_counts=True))\n"
      ]
    },
    {
      "cell_type": "code",
      "execution_count": 49,
      "metadata": {
        "colab": {
          "base_uri": "https://localhost:8080/"
        },
        "id": "OKMrH07HPqtB",
        "outputId": "a1870c80-d59a-4614-c824-f5312221267f"
      },
      "outputs": [
        {
          "name": "stdout",
          "output_type": "stream",
          "text": [
            "\u001b[1m2/2\u001b[0m \u001b[32m━━━━━━━━━━━━━━━━━━━━\u001b[0m\u001b[37m\u001b[0m \u001b[1m1s\u001b[0m 307ms/step\n",
            "[2 0 1 3 3 3 0 3 3 2 2 1 3 2 0 0 1 1 0 0 0 2 1 0 3 3 0 1 2 1 1 2 3 0 3 3 2\n",
            " 1 2 0 1 2 1 2]\n",
            "44\n",
            "(array([0, 1, 2, 3], dtype=int64), array([11, 11, 11, 11], dtype=int64))\n"
          ]
        }
      ],
      "source": [
        "predictions = model.predict(input_arr)\n",
        "y_pred = np.argmax(predictions, axis=1)\n",
        "print(y_pred)\n",
        "print(len(y_pred))\n",
        "print(np.unique(y_pred, return_counts=True))\n"
      ]
    },
    {
      "cell_type": "code",
      "execution_count": 50,
      "metadata": {},
      "outputs": [],
      "source": [
        "target_names = [x[0] for x in sorted(pred_set.class_indices.items(), key=lambda x: x[1])]"
      ]
    },
    {
      "cell_type": "code",
      "execution_count": 51,
      "metadata": {},
      "outputs": [
        {
          "name": "stdout",
          "output_type": "stream",
          "text": [
            "                                                  precision    recall  f1-score   support\n",
            "\n",
            "      adenocarcinoma_left.lower.lobe_T2_N0_M0_Ib       1.00      1.00      1.00        11\n",
            "   large.cell.carcinoma_left.hilum_T2_N2_M0_IIIa       1.00      1.00      1.00        11\n",
            "                                          normal       1.00      1.00      1.00        11\n",
            "squamous.cell.carcinoma_left.hilum_T1_N2_M0_IIIa       1.00      1.00      1.00        11\n",
            "\n",
            "                                        accuracy                           1.00        44\n",
            "                                       macro avg       1.00      1.00      1.00        44\n",
            "                                    weighted avg       1.00      1.00      1.00        44\n",
            "\n"
          ]
        }
      ],
      "source": [
        "report = classification_report(output_lst, y_pred, target_names=target_names)\n",
        "print(report)    "
      ]
    },
    {
      "cell_type": "code",
      "execution_count": 52,
      "metadata": {
        "colab": {
          "base_uri": "https://localhost:8080/",
          "height": 448
        },
        "id": "5TSmeXbIIeyO",
        "outputId": "dd8155b2-338f-405a-aba3-b0f754b20b50"
      },
      "outputs": [
        {
          "data": {
            "image/png": "[encoded data removed]",
            "text/plain": [
              "<Figure size 640x480 with 1 Axes>"
            ]
          },
          "metadata": {},
          "output_type": "display_data"
        }
      ],
      "source": [
        "# plot the loss\n",
        "plt.plot(r.history['loss'], label='train loss')\n",
        "plt.plot(r.history['val_loss'], label='val loss')\n",
        "plt.legend()\n",
        "plt.savefig('LossVal_loss')\n",
        "plt.show()"
      ]
    },
    {
      "cell_type": "code",
      "execution_count": null,
      "metadata": {},
      "outputs": [],
      "source": []
    }
  ],
  "metadata": {
    "colab": {
      "provenance": []
    },
    "kernelspec": {
      "display_name": "Python 3",
      "name": "python3"
    },
    "language_info": {
      "codemirror_mode": {
        "name": "ipython",
        "version": 3
      },
      "file_extension": ".py",
      "mimetype": "text/x-python",
      "name": "python",
      "nbconvert_exporter": "python",
      "pygments_lexer": "ipython3",
      "version": "3.12.2"
    }
  },
  "nbformat": 4,
  "nbformat_minor": 0
}
