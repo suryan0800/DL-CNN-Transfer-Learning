{
  "cells": [
    {
      "cell_type": "code",
      "execution_count": 1,
      "metadata": {
        "id": "pg8xHBq3Grb9"
      },
      "outputs": [],
      "source": [
        "import tensorflow as tf\n",
        "import pandas as pd\n",
        "import matplotlib.pyplot as plt\n",
        "import scipy\n",
        "from tensorflow.keras import Model\n",
        "from tensorflow.keras.layers import Conv2D, Dense, MaxPooling2D, Dropout, Flatten,GlobalAveragePooling2D\n",
        "from tensorflow.keras.models import Sequential\n",
        "from tensorflow.keras.preprocessing.image import ImageDataGenerator\n",
        "from tensorflow.keras.callbacks import ReduceLROnPlateau\n",
        "from tensorflow.keras.layers import Input, Lambda, Dense, Flatten\n",
        "from tensorflow.keras.models import Model\n",
        "from tensorflow.keras.applications.inception_v3 import preprocess_input\n",
        "from tensorflow.keras.preprocessing import image\n",
        "from tensorflow.keras.preprocessing.image import ImageDataGenerator,load_img\n",
        "from tensorflow.keras.models import Sequential\n",
        "from sklearn.metrics import classification_report\n",
        "import numpy as np\n",
        "from glob import glob"
      ]
    },
    {
      "cell_type": "code",
      "execution_count": 2,
      "metadata": {
        "colab": {
          "base_uri": "https://localhost:8080/"
        },
        "id": "hPNvMnEtIRMo",
        "outputId": "474b2fcf-4e2b-450f-8cac-7e26698f2e82"
      },
      "outputs": [
        {
          "name": "stdout",
          "output_type": "stream",
          "text": [
            "Done\n"
          ]
        }
      ],
      "source": [
        "from zipfile import ZipFile\n",
        "file_name = \"chest-ctscan-images.zip\"\n",
        "\n",
        "with ZipFile(file_name,'r') as zip1:\n",
        "  zip1.extractall()\n",
        "  print('Done')"
      ]
    },
    {
      "cell_type": "code",
      "execution_count": 3,
      "metadata": {
        "id": "KVM6bRw2IXlv"
      },
      "outputs": [],
      "source": [
        "# Use the Image Data Generator to import the images from the dataset\n",
        "from tensorflow.keras.preprocessing.image import ImageDataGenerator\n",
        "\n",
        "train_datagen = ImageDataGenerator(rescale = 1./255,\n",
        "                                   shear_range = 0.2,\n",
        "                                   zoom_range = 0.2,\n",
        "                                   horizontal_flip = True)\n",
        "\n",
        "test_datagen = ImageDataGenerator(rescale = 1./255)\n",
        "#no flip and zoom for test datase"
      ]
    },
    {
      "cell_type": "code",
      "execution_count": 4,
      "metadata": {},
      "outputs": [],
      "source": [
        "batch_size = 22"
      ]
    },
    {
      "cell_type": "code",
      "execution_count": 5,
      "metadata": {
        "colab": {
          "base_uri": "https://localhost:8080/"
        },
        "id": "3vXC2w3HIarW",
        "outputId": "ffa180a0-8a92-4706-ad1e-c9e8253d127e"
      },
      "outputs": [
        {
          "name": "stdout",
          "output_type": "stream",
          "text": [
            "Found 44 images belonging to 4 classes.\n"
          ]
        }
      ],
      "source": [
        "# Make sure you provide the same target size as initialied for the image size\n",
        "training_set = train_datagen.flow_from_directory('chest-ctscan-images/Data/train',\n",
        "                                                 target_size = (224, 224),\n",
        "                                                 batch_size = batch_size,\n",
        "                                                 class_mode = 'categorical')"
      ]
    },
    {
      "cell_type": "code",
      "execution_count": 6,
      "metadata": {},
      "outputs": [
        {
          "data": {
            "text/plain": [
              "{'adenocarcinoma_left.lower.lobe_T2_N0_M0_Ib': 0,\n",
              " 'large.cell.carcinoma_left.hilum_T2_N2_M0_IIIa': 1,\n",
              " 'normal': 2,\n",
              " 'squamous.cell.carcinoma_left.hilum_T1_N2_M0_IIIa': 3}"
            ]
          },
          "execution_count": 6,
          "metadata": {},
          "output_type": "execute_result"
        }
      ],
      "source": [
        "training_set.class_indices"
      ]
    },
    {
      "cell_type": "code",
      "execution_count": 7,
      "metadata": {
        "colab": {
          "base_uri": "https://localhost:8080/"
        },
        "id": "hQK-RDswMd7D",
        "outputId": "36531522-28a2-4d10-fc1c-7665a618de9f"
      },
      "outputs": [
        {
          "name": "stdout",
          "output_type": "stream",
          "text": [
            "Found 44 images belonging to 4 classes.\n"
          ]
        }
      ],
      "source": [
        "# Make sure you provide the same target size as initialied for the image size\n",
        "test_set = train_datagen.flow_from_directory('chest-ctscan-images/Data/test',\n",
        "                                                 target_size = (224, 224),\n",
        "                                                 batch_size = batch_size,\n",
        "                                                 class_mode = 'categorical')"
      ]
    },
    {
      "cell_type": "code",
      "execution_count": 8,
      "metadata": {},
      "outputs": [
        {
          "data": {
            "text/plain": [
              "{'adenocarcinoma': 0,\n",
              " 'large.cell.carcinoma': 1,\n",
              " 'normal': 2,\n",
              " 'squamous.cell.carcinoma': 3}"
            ]
          },
          "execution_count": 8,
          "metadata": {},
          "output_type": "execute_result"
        }
      ],
      "source": [
        "test_set.class_indices"
      ]
    },
    {
      "cell_type": "code",
      "execution_count": 9,
      "metadata": {},
      "outputs": [
        {
          "name": "stdout",
          "output_type": "stream",
          "text": [
            "22, 0\n"
          ]
        }
      ],
      "source": [
        "print(test_set.batch_size,test_set.batch_index, sep=', ')"
      ]
    },
    {
      "cell_type": "code",
      "execution_count": 10,
      "metadata": {
        "colab": {
          "base_uri": "https://localhost:8080/"
        },
        "id": "lvm7WVI5MeUv",
        "outputId": "57c8f763-9d6c-4ea3-d11e-b254a1e68854"
      },
      "outputs": [
        {
          "name": "stdout",
          "output_type": "stream",
          "text": [
            "Found 44 images belonging to 4 classes.\n"
          ]
        }
      ],
      "source": [
        "# Make sure you provide the same target size as initialied for the image size\n",
        "valid_set = train_datagen.flow_from_directory('chest-ctscan-images/Data/valid',\n",
        "                                                 target_size = (224, 224),\n",
        "                                                 batch_size = batch_size,\n",
        "                                                 class_mode = 'categorical')"
      ]
    },
    {
      "cell_type": "code",
      "execution_count": 11,
      "metadata": {},
      "outputs": [
        {
          "data": {
            "text/plain": [
              "{'adenocarcinoma_left.lower.lobe_T2_N0_M0_Ib': 0,\n",
              " 'large.cell.carcinoma_left.hilum_T2_N2_M0_IIIa': 1,\n",
              " 'normal': 2,\n",
              " 'squamous.cell.carcinoma_left.hilum_T1_N2_M0_IIIa': 3}"
            ]
          },
          "execution_count": 11,
          "metadata": {},
          "output_type": "execute_result"
        }
      ],
      "source": [
        "valid_set.class_indices"
      ]
    },
    {
      "cell_type": "code",
      "execution_count": 12,
      "metadata": {},
      "outputs": [
        {
          "name": "stdout",
          "output_type": "stream",
          "text": [
            "Downloading data from https://storage.googleapis.com/tensorflow/keras-applications/resnet/resnet50v2_weights_tf_dim_ordering_tf_kernels_notop.h5\n",
            "\u001b[1m94668760/94668760\u001b[0m \u001b[32m━━━━━━━━━━━━━━━━━━━━\u001b[0m\u001b[37m\u001b[0m \u001b[1m7s\u001b[0m 0us/step\n",
            "Downloading data from https://storage.googleapis.com/tensorflow/keras-applications/nasnet/NASNet-mobile-no-top.h5\n",
            "\u001b[1m19993432/19993432\u001b[0m \u001b[32m━━━━━━━━━━━━━━━━━━━━\u001b[0m\u001b[37m\u001b[0m \u001b[1m3s\u001b[0m 0us/step\n",
            "Downloading data from https://storage.googleapis.com/tensorflow/keras-applications/efficientnet_v2/efficientnetv2-s_notop.h5\n",
            "\u001b[1m82420632/82420632\u001b[0m \u001b[32m━━━━━━━━━━━━━━━━━━━━\u001b[0m\u001b[37m\u001b[0m \u001b[1m6s\u001b[0m 0us/step\n",
            "WARNING:tensorflow:From c:\\Users\\surya\\AppData\\Local\\Programs\\Python\\Python312\\Lib\\site-packages\\keras\\src\\backend\\tensorflow\\core.py:174: The name tf.placeholder is deprecated. Please use tf.compat.v1.placeholder instead.\n",
            "\n",
            "Downloading data from https://storage.googleapis.com/tensorflow/keras-applications/convnext/convnext_tiny_notop.h5\n",
            "\u001b[1m111650432/111650432\u001b[0m \u001b[32m━━━━━━━━━━━━━━━━━━━━\u001b[0m\u001b[37m\u001b[0m \u001b[1m8s\u001b[0m 0us/step\n"
          ]
        }
      ],
      "source": [
        "from tensorflow.keras.applications import Xception, VGG19, ResNet50V2, InceptionV3, MobileNetV2, DenseNet201, NASNetMobile,  EfficientNetV2S, ConvNeXtTiny\n",
        "\n",
        "\n",
        "pre_trained_models = [\n",
        "    Xception(weights='imagenet', include_top=False, input_shape=(224, 224, 3)),\n",
        "    VGG19(weights='imagenet', include_top=False, input_shape=(224, 224, 3)),\n",
        "    ResNet50V2(weights='imagenet', include_top=False, input_shape=(224, 224, 3)),\n",
        "    InceptionV3(weights='imagenet', include_top=False, input_shape=(224, 224, 3)),\n",
        "    MobileNetV2(weights='imagenet', include_top=False, input_shape=(224, 224, 3)),\n",
        "    DenseNet201(weights='imagenet', include_top=False, input_shape=(224, 224, 3)),\n",
        "    NASNetMobile(weights='imagenet', include_top=False, input_shape=(224, 224, 3)),\n",
        "    EfficientNetV2S(weights='imagenet', include_top=False, input_shape=(224, 224, 3)),\n",
        "    ConvNeXtTiny(weights='imagenet', include_top=False, input_shape=(224, 224, 3))\n",
        "]"
      ]
    },
    {
      "cell_type": "code",
      "execution_count": 13,
      "metadata": {},
      "outputs": [],
      "source": [
        "from tensorflow.keras import Model\n",
        "from tensorflow.keras.layers import Dense, Dropout, Flatten, GlobalAveragePooling2D\n",
        "\n",
        "classify_models = []\n",
        "for pretrained_model in pre_trained_models: \n",
        "    # The last 15 layers fine tune\n",
        "    for layer in pretrained_model.layers[:-10]:\n",
        "        layer.trainable = False\n",
        "\n",
        "    x = pretrained_model.output\n",
        "    x = GlobalAveragePooling2D()(x)\n",
        "    x = Flatten()(x)\n",
        "    x = Dense(units=512, activation='relu')(x)\n",
        "    x = Dropout(0.1)(x)\n",
        "    x = Dense(units=512, activation='relu')(x)\n",
        "    x = Dropout(0.1)(x)\n",
        "    output  = Dense(units=4, activation='softmax')(x)\n",
        "    model = Model(pretrained_model.input, output)\n",
        "    classify_models.append(model)\n"
      ]
    },
    {
      "cell_type": "code",
      "execution_count": 14,
      "metadata": {},
      "outputs": [
        {
          "data": {
            "text/html": [
              "<div>\n",
              "<style scoped>\n",
              "    .dataframe tbody tr th:only-of-type {\n",
              "        vertical-align: middle;\n",
              "    }\n",
              "\n",
              "    .dataframe tbody tr th {\n",
              "        vertical-align: top;\n",
              "    }\n",
              "\n",
              "    .dataframe thead th {\n",
              "        text-align: right;\n",
              "    }\n",
              "</style>\n",
              "<table border=\"1\" class=\"dataframe\">\n",
              "  <thead>\n",
              "    <tr style=\"text-align: right;\">\n",
              "      <th></th>\n",
              "      <th>No of Layers</th>\n",
              "      <th>No of Conv layers</th>\n",
              "      <th>Total params</th>\n",
              "      <th>Trainable params</th>\n",
              "      <th>Non-trainable params</th>\n",
              "    </tr>\n",
              "    <tr>\n",
              "      <th>Model Name</th>\n",
              "      <th></th>\n",
              "      <th></th>\n",
              "      <th></th>\n",
              "      <th></th>\n",
              "      <th></th>\n",
              "    </tr>\n",
              "  </thead>\n",
              "  <tbody>\n",
              "    <tr>\n",
              "      <th>xception</th>\n",
              "      <td>139</td>\n",
              "      <td>111</td>\n",
              "      <td>221.75276M</td>\n",
              "      <td>68.10116M</td>\n",
              "      <td>153.6516M</td>\n",
              "    </tr>\n",
              "    <tr>\n",
              "      <th>vgg19</th>\n",
              "      <td>29</td>\n",
              "      <td>16</td>\n",
              "      <td>205.51748M</td>\n",
              "      <td>182.2618M</td>\n",
              "      <td>23.25568M</td>\n",
              "    </tr>\n",
              "    <tr>\n",
              "      <th>resnet50v2</th>\n",
              "      <td>197</td>\n",
              "      <td>182</td>\n",
              "      <td>248.78596M</td>\n",
              "      <td>47.2986M</td>\n",
              "      <td>201.48736M</td>\n",
              "    </tr>\n",
              "    <tr>\n",
              "      <th>inception_v3</th>\n",
              "      <td>318</td>\n",
              "      <td>94</td>\n",
              "      <td>231.1658M</td>\n",
              "      <td>13.13988M</td>\n",
              "      <td>218.02592M</td>\n",
              "    </tr>\n",
              "    <tr>\n",
              "      <th>mobilenetv2_1.00_224</th>\n",
              "      <td>161</td>\n",
              "      <td>5</td>\n",
              "      <td>31.78564M</td>\n",
              "      <td>16.5306M</td>\n",
              "      <td>15.25504M</td>\n",
              "    </tr>\n",
              "    <tr>\n",
              "      <th>densenet201</th>\n",
              "      <td>714</td>\n",
              "      <td>692</td>\n",
              "      <td>195.70244M</td>\n",
              "      <td>15.3466M</td>\n",
              "      <td>180.35584M</td>\n",
              "    </tr>\n",
              "    <tr>\n",
              "      <th>NASNet</th>\n",
              "      <td>776</td>\n",
              "      <td>372</td>\n",
              "      <td>50.75608M</td>\n",
              "      <td>8.06244M</td>\n",
              "      <td>42.69364M</td>\n",
              "    </tr>\n",
              "    <tr>\n",
              "      <th>efficientnetv2-s</th>\n",
              "      <td>520</td>\n",
              "      <td>110</td>\n",
              "      <td>212.5194M</td>\n",
              "      <td>18.42756M</td>\n",
              "      <td>194.09184M</td>\n",
              "    </tr>\n",
              "    <tr>\n",
              "      <th>convnext_tiny</th>\n",
              "      <td>140</td>\n",
              "      <td>131</td>\n",
              "      <td>284.78564M</td>\n",
              "      <td>54.23876M</td>\n",
              "      <td>230.54688M</td>\n",
              "    </tr>\n",
              "  </tbody>\n",
              "</table>\n",
              "</div>"
            ],
            "text/plain": [
              "                      No of Layers  No of Conv layers Total params  \\\n",
              "Model Name                                                           \n",
              "xception                       139                111   221.75276M   \n",
              "vgg19                           29                 16   205.51748M   \n",
              "resnet50v2                     197                182   248.78596M   \n",
              "inception_v3                   318                 94    231.1658M   \n",
              "mobilenetv2_1.00_224           161                  5    31.78564M   \n",
              "densenet201                    714                692   195.70244M   \n",
              "NASNet                         776                372    50.75608M   \n",
              "efficientnetv2-s               520                110    212.5194M   \n",
              "convnext_tiny                  140                131   284.78564M   \n",
              "\n",
              "                     Trainable params Non-trainable params  \n",
              "Model Name                                                  \n",
              "xception                    68.10116M            153.6516M  \n",
              "vgg19                       182.2618M            23.25568M  \n",
              "resnet50v2                   47.2986M           201.48736M  \n",
              "inception_v3                13.13988M           218.02592M  \n",
              "mobilenetv2_1.00_224         16.5306M            15.25504M  \n",
              "densenet201                  15.3466M           180.35584M  \n",
              "NASNet                       8.06244M            42.69364M  \n",
              "efficientnetv2-s            18.42756M           194.09184M  \n",
              "convnext_tiny               54.23876M           230.54688M  "
            ]
          },
          "execution_count": 14,
          "metadata": {},
          "output_type": "execute_result"
        }
      ],
      "source": [
        "from tensorflow.python.keras.utils.layer_utils import count_params\n",
        "import pandas as pd \n",
        "\n",
        "result_lst1 = []\n",
        "\n",
        "for model, pre_model in zip(classify_models, pre_trained_models): \n",
        "    result_lst1.append({\n",
        "        'Model Name': pre_model.name,\n",
        "        'No of Layers': len(model.layers),\n",
        "        'No of Conv layers': len([layer for layer in model.layers if 'conv' in layer.name]),\n",
        "        'Total params': (str(model.count_params()/100000) + 'M'),\n",
        "        'Trainable params': (str(count_params(model.trainable_weights)/100000) + 'M'),\n",
        "        'Non-trainable params': (str(count_params(model.non_trainable_weights)/100000) + 'M')\n",
        "    })\n",
        "result_df1 = pd.DataFrame.from_dict(result_lst1)\n",
        "result_df1 = result_df1.set_index('Model Name')\n",
        "result_df1"
      ]
    },
    {
      "cell_type": "code",
      "execution_count": 15,
      "metadata": {
        "id": "1S37bcxpMvBO"
      },
      "outputs": [],
      "source": [
        "import tensorflow as tf\n",
        "import keras.losses\n",
        "\n",
        "for model in classify_models: \n",
        "    optimizer1 = tf.keras.optimizers.Adam(learning_rate=0.001, beta_1=0.9)\n",
        "    model.compile(optimizer=optimizer1, loss=keras.losses.CategoricalCrossentropy(), metrics=['accuracy'])"
      ]
    },
    {
      "cell_type": "code",
      "execution_count": 16,
      "metadata": {
        "colab": {
          "base_uri": "https://localhost:8080/"
        },
        "id": "fkPb8bt3Ic1Q",
        "outputId": "0c2a39fb-fd8a-482f-d225-167994a2383f"
      },
      "outputs": [
        {
          "name": "stdout",
          "output_type": "stream",
          "text": [
            "Fitting Model:  xception\n",
            "Epoch 1/15\n"
          ]
        },
        {
          "name": "stderr",
          "output_type": "stream",
          "text": [
            "c:\\Users\\surya\\AppData\\Local\\Programs\\Python\\Python312\\Lib\\site-packages\\keras\\src\\trainers\\data_adapters\\py_dataset_adapter.py:122: UserWarning: Your `PyDataset` class should call `super().__init__(**kwargs)` in its constructor. `**kwargs` can include `workers`, `use_multiprocessing`, `max_queue_size`. Do not pass these arguments to `fit()`, as they will be ignored.\n",
            "  self._warn_if_super_not_called()\n"
          ]
        },
        {
          "name": "stdout",
          "output_type": "stream",
          "text": [
            "\u001b[1m2/2\u001b[0m \u001b[32m━━━━━━━━━━━━━━━━━━━━\u001b[0m\u001b[37m\u001b[0m \u001b[1m15s\u001b[0m 7s/step - accuracy: 0.3333 - loss: 1.4844 - val_accuracy: 0.4091 - val_loss: 1.3086\n",
            "Epoch 2/15\n",
            "\u001b[1m2/2\u001b[0m \u001b[32m━━━━━━━━━━━━━━━━━━━━\u001b[0m\u001b[37m\u001b[0m \u001b[1m7s\u001b[0m 5s/step - accuracy: 0.6818 - loss: 1.0051 - val_accuracy: 0.3409 - val_loss: 1.5172\n",
            "Epoch 3/15\n",
            "\u001b[1m2/2\u001b[0m \u001b[32m━━━━━━━━━━━━━━━━━━━━\u001b[0m\u001b[37m\u001b[0m \u001b[1m7s\u001b[0m 5s/step - accuracy: 0.7424 - loss: 0.7741 - val_accuracy: 0.2955 - val_loss: 2.2312\n",
            "Epoch 4/15\n",
            "\u001b[1m2/2\u001b[0m \u001b[32m━━━━━━━━━━━━━━━━━━━━\u001b[0m\u001b[37m\u001b[0m \u001b[1m7s\u001b[0m 4s/step - accuracy: 0.8182 - loss: 0.5262 - val_accuracy: 0.3182 - val_loss: 3.0714\n",
            "Epoch 5/15\n",
            "\u001b[1m2/2\u001b[0m \u001b[32m━━━━━━━━━━━━━━━━━━━━\u001b[0m\u001b[37m\u001b[0m \u001b[1m6s\u001b[0m 5s/step - accuracy: 0.8182 - loss: 0.4548 - val_accuracy: 0.3864 - val_loss: 3.3948\n",
            "Epoch 6/15\n",
            "\u001b[1m2/2\u001b[0m \u001b[32m━━━━━━━━━━━━━━━━━━━━\u001b[0m\u001b[37m\u001b[0m \u001b[1m6s\u001b[0m 5s/step - accuracy: 0.9091 - loss: 0.3018 - val_accuracy: 0.3636 - val_loss: 4.2111\n",
            "Epoch 7/15\n",
            "\u001b[1m2/2\u001b[0m \u001b[32m━━━━━━━━━━━━━━━━━━━━\u001b[0m\u001b[37m\u001b[0m \u001b[1m7s\u001b[0m 5s/step - accuracy: 0.9242 - loss: 0.2194 - val_accuracy: 0.3409 - val_loss: 5.0502\n",
            "Epoch 8/15\n",
            "\u001b[1m2/2\u001b[0m \u001b[32m━━━━━━━━━━━━━━━━━━━━\u001b[0m\u001b[37m\u001b[0m \u001b[1m6s\u001b[0m 4s/step - accuracy: 0.9848 - loss: 0.0962 - val_accuracy: 0.3409 - val_loss: 5.8376\n",
            "Epoch 9/15\n",
            "\u001b[1m2/2\u001b[0m \u001b[32m━━━━━━━━━━━━━━━━━━━━\u001b[0m\u001b[37m\u001b[0m \u001b[1m6s\u001b[0m 4s/step - accuracy: 0.9697 - loss: 0.1537 - val_accuracy: 0.3864 - val_loss: 5.6629\n",
            "Epoch 10/15\n",
            "\u001b[1m2/2\u001b[0m \u001b[32m━━━━━━━━━━━━━━━━━━━━\u001b[0m\u001b[37m\u001b[0m \u001b[1m6s\u001b[0m 4s/step - accuracy: 0.9242 - loss: 0.3948 - val_accuracy: 0.3864 - val_loss: 5.8791\n",
            "Epoch 11/15\n",
            "\u001b[1m2/2\u001b[0m \u001b[32m━━━━━━━━━━━━━━━━━━━━\u001b[0m\u001b[37m\u001b[0m \u001b[1m6s\u001b[0m 4s/step - accuracy: 1.0000 - loss: 0.0264 - val_accuracy: 0.3409 - val_loss: 7.0303\n",
            "Epoch 12/15\n",
            "\u001b[1m2/2\u001b[0m \u001b[32m━━━━━━━━━━━━━━━━━━━━\u001b[0m\u001b[37m\u001b[0m \u001b[1m6s\u001b[0m 4s/step - accuracy: 0.9848 - loss: 0.0695 - val_accuracy: 0.3864 - val_loss: 7.2082\n",
            "Epoch 13/15\n",
            "\u001b[1m2/2\u001b[0m \u001b[32m━━━━━━━━━━━━━━━━━━━━\u001b[0m\u001b[37m\u001b[0m \u001b[1m6s\u001b[0m 5s/step - accuracy: 1.0000 - loss: 0.0262 - val_accuracy: 0.3864 - val_loss: 8.0324\n",
            "Epoch 14/15\n",
            "\u001b[1m2/2\u001b[0m \u001b[32m━━━━━━━━━━━━━━━━━━━━\u001b[0m\u001b[37m\u001b[0m \u001b[1m6s\u001b[0m 4s/step - accuracy: 0.9697 - loss: 0.0479 - val_accuracy: 0.3864 - val_loss: 8.0458\n",
            "Epoch 15/15\n",
            "\u001b[1m2/2\u001b[0m \u001b[32m━━━━━━━━━━━━━━━━━━━━\u001b[0m\u001b[37m\u001b[0m \u001b[1m6s\u001b[0m 4s/step - accuracy: 1.0000 - loss: 0.0162 - val_accuracy: 0.3864 - val_loss: 8.4048\n",
            "\n",
            "Fitting Model:  vgg19\n",
            "Epoch 1/15\n",
            "\u001b[1m2/2\u001b[0m \u001b[32m━━━━━━━━━━━━━━━━━━━━\u001b[0m\u001b[37m\u001b[0m \u001b[1m13s\u001b[0m 7s/step - accuracy: 0.2879 - loss: 7.8287 - val_accuracy: 0.2500 - val_loss: 1.7010\n",
            "Epoch 2/15\n",
            "\u001b[1m2/2\u001b[0m \u001b[32m━━━━━━━━━━━━━━━━━━━━\u001b[0m\u001b[37m\u001b[0m \u001b[1m10s\u001b[0m 6s/step - accuracy: 0.2879 - loss: 2.0475 - val_accuracy: 0.3864 - val_loss: 1.3741\n",
            "Epoch 3/15\n",
            "\u001b[1m2/2\u001b[0m \u001b[32m━━━━━━━━━━━━━━━━━━━━\u001b[0m\u001b[37m\u001b[0m \u001b[1m10s\u001b[0m 6s/step - accuracy: 0.2879 - loss: 1.3758 - val_accuracy: 0.2500 - val_loss: 2.0524\n",
            "Epoch 4/15\n",
            "\u001b[1m2/2\u001b[0m \u001b[32m━━━━━━━━━━━━━━━━━━━━\u001b[0m\u001b[37m\u001b[0m \u001b[1m10s\u001b[0m 6s/step - accuracy: 0.1818 - loss: 1.8413 - val_accuracy: 0.2500 - val_loss: 1.3837\n",
            "Epoch 5/15\n",
            "\u001b[1m2/2\u001b[0m \u001b[32m━━━━━━━━━━━━━━━━━━━━\u001b[0m\u001b[37m\u001b[0m \u001b[1m10s\u001b[0m 6s/step - accuracy: 0.2273 - loss: 1.3888 - val_accuracy: 0.2500 - val_loss: 1.3778\n",
            "Epoch 6/15\n",
            "\u001b[1m2/2\u001b[0m \u001b[32m━━━━━━━━━━━━━━━━━━━━\u001b[0m\u001b[37m\u001b[0m \u001b[1m10s\u001b[0m 6s/step - accuracy: 0.2273 - loss: 1.3758 - val_accuracy: 0.2500 - val_loss: 1.3914\n",
            "Epoch 7/15\n",
            "\u001b[1m2/2\u001b[0m \u001b[32m━━━━━━━━━━━━━━━━━━━━\u001b[0m\u001b[37m\u001b[0m \u001b[1m10s\u001b[0m 6s/step - accuracy: 0.2273 - loss: 1.4080 - val_accuracy: 0.4773 - val_loss: 1.3430\n",
            "Epoch 8/15\n",
            "\u001b[1m2/2\u001b[0m \u001b[32m━━━━━━━━━━━━━━━━━━━━\u001b[0m\u001b[37m\u001b[0m \u001b[1m10s\u001b[0m 6s/step - accuracy: 0.3939 - loss: 1.3446 - val_accuracy: 0.2500 - val_loss: 1.4406\n",
            "Epoch 9/15\n",
            "\u001b[1m2/2\u001b[0m \u001b[32m━━━━━━━━━━━━━━━━━━━━\u001b[0m\u001b[37m\u001b[0m \u001b[1m10s\u001b[0m 6s/step - accuracy: 0.2576 - loss: 1.4459 - val_accuracy: 0.2500 - val_loss: 1.4192\n",
            "Epoch 10/15\n",
            "\u001b[1m2/2\u001b[0m \u001b[32m━━━━━━━━━━━━━━━━━━━━\u001b[0m\u001b[37m\u001b[0m \u001b[1m10s\u001b[0m 6s/step - accuracy: 0.3030 - loss: 1.3509 - val_accuracy: 0.3182 - val_loss: 1.3487\n",
            "Epoch 11/15\n",
            "\u001b[1m2/2\u001b[0m \u001b[32m━━━━━━━━━━━━━━━━━━━━\u001b[0m\u001b[37m\u001b[0m \u001b[1m10s\u001b[0m 6s/step - accuracy: 0.3939 - loss: 1.3026 - val_accuracy: 0.4318 - val_loss: 1.3260\n",
            "Epoch 12/15\n",
            "\u001b[1m2/2\u001b[0m \u001b[32m━━━━━━━━━━━━━━━━━━━━\u001b[0m\u001b[37m\u001b[0m \u001b[1m10s\u001b[0m 6s/step - accuracy: 0.4545 - loss: 1.2348 - val_accuracy: 0.2500 - val_loss: 1.3521\n",
            "Epoch 13/15\n",
            "\u001b[1m2/2\u001b[0m \u001b[32m━━━━━━━━━━━━━━━━━━━━\u001b[0m\u001b[37m\u001b[0m \u001b[1m10s\u001b[0m 6s/step - accuracy: 0.4091 - loss: 1.2150 - val_accuracy: 0.2500 - val_loss: 1.5402\n",
            "Epoch 14/15\n",
            "\u001b[1m2/2\u001b[0m \u001b[32m━━━━━━━━━━━━━━━━━━━━\u001b[0m\u001b[37m\u001b[0m \u001b[1m10s\u001b[0m 6s/step - accuracy: 0.2273 - loss: 1.4815 - val_accuracy: 0.2500 - val_loss: 1.4915\n",
            "Epoch 15/15\n",
            "\u001b[1m2/2\u001b[0m \u001b[32m━━━━━━━━━━━━━━━━━━━━\u001b[0m\u001b[37m\u001b[0m \u001b[1m10s\u001b[0m 7s/step - accuracy: 0.3333 - loss: 1.2384 - val_accuracy: 0.2500 - val_loss: 2.0612\n",
            "\n",
            "Fitting Model:  resnet50v2\n",
            "Epoch 1/15\n",
            "\u001b[1m2/2\u001b[0m \u001b[32m━━━━━━━━━━━━━━━━━━━━\u001b[0m\u001b[37m\u001b[0m \u001b[1m13s\u001b[0m 5s/step - accuracy: 0.2273 - loss: 1.5544 - val_accuracy: 0.3864 - val_loss: 1.7492\n",
            "Epoch 2/15\n",
            "\u001b[1m2/2\u001b[0m \u001b[32m━━━━━━━━━━━━━━━━━━━━\u001b[0m\u001b[37m\u001b[0m \u001b[1m5s\u001b[0m 3s/step - accuracy: 0.7879 - loss: 0.6447 - val_accuracy: 0.2500 - val_loss: 2.4576\n",
            "Epoch 3/15\n",
            "\u001b[1m2/2\u001b[0m \u001b[32m━━━━━━━━━━━━━━━━━━━━\u001b[0m\u001b[37m\u001b[0m \u001b[1m5s\u001b[0m 3s/step - accuracy: 0.8485 - loss: 0.4515 - val_accuracy: 0.2727 - val_loss: 3.3962\n",
            "Epoch 4/15\n",
            "\u001b[1m2/2\u001b[0m \u001b[32m━━━━━━━━━━━━━━━━━━━━\u001b[0m\u001b[37m\u001b[0m \u001b[1m5s\u001b[0m 3s/step - accuracy: 0.9394 - loss: 0.1867 - val_accuracy: 0.2500 - val_loss: 6.5791\n",
            "Epoch 5/15\n",
            "\u001b[1m2/2\u001b[0m \u001b[32m━━━━━━━━━━━━━━━━━━━━\u001b[0m\u001b[37m\u001b[0m \u001b[1m5s\u001b[0m 3s/step - accuracy: 0.9545 - loss: 0.1825 - val_accuracy: 0.2273 - val_loss: 7.8278\n",
            "Epoch 6/15\n",
            "\u001b[1m2/2\u001b[0m \u001b[32m━━━━━━━━━━━━━━━━━━━━\u001b[0m\u001b[37m\u001b[0m \u001b[1m5s\u001b[0m 3s/step - accuracy: 0.9545 - loss: 0.0785 - val_accuracy: 0.2727 - val_loss: 6.3225\n",
            "Epoch 7/15\n",
            "\u001b[1m2/2\u001b[0m \u001b[32m━━━━━━━━━━━━━━━━━━━━\u001b[0m\u001b[37m\u001b[0m \u001b[1m5s\u001b[0m 3s/step - accuracy: 0.9697 - loss: 0.0825 - val_accuracy: 0.2500 - val_loss: 4.4347\n",
            "Epoch 8/15\n",
            "\u001b[1m2/2\u001b[0m \u001b[32m━━━━━━━━━━━━━━━━━━━━\u001b[0m\u001b[37m\u001b[0m \u001b[1m5s\u001b[0m 4s/step - accuracy: 0.9545 - loss: 0.0831 - val_accuracy: 0.5000 - val_loss: 4.2650\n",
            "Epoch 9/15\n",
            "\u001b[1m2/2\u001b[0m \u001b[32m━━━━━━━━━━━━━━━━━━━━\u001b[0m\u001b[37m\u001b[0m \u001b[1m5s\u001b[0m 4s/step - accuracy: 1.0000 - loss: 0.0252 - val_accuracy: 0.4318 - val_loss: 8.7325\n",
            "Epoch 10/15\n",
            "\u001b[1m2/2\u001b[0m \u001b[32m━━━━━━━━━━━━━━━━━━━━\u001b[0m\u001b[37m\u001b[0m \u001b[1m5s\u001b[0m 4s/step - accuracy: 0.9242 - loss: 0.1130 - val_accuracy: 0.3636 - val_loss: 12.2759\n",
            "Epoch 11/15\n",
            "\u001b[1m2/2\u001b[0m \u001b[32m━━━━━━━━━━━━━━━━━━━━\u001b[0m\u001b[37m\u001b[0m \u001b[1m5s\u001b[0m 3s/step - accuracy: 0.9545 - loss: 0.0926 - val_accuracy: 0.3409 - val_loss: 16.9814\n",
            "Epoch 12/15\n",
            "\u001b[1m2/2\u001b[0m \u001b[32m━━━━━━━━━━━━━━━━━━━━\u001b[0m\u001b[37m\u001b[0m \u001b[1m5s\u001b[0m 3s/step - accuracy: 1.0000 - loss: 0.0405 - val_accuracy: 0.2955 - val_loss: 13.0685\n",
            "Epoch 13/15\n",
            "\u001b[1m2/2\u001b[0m \u001b[32m━━━━━━━━━━━━━━━━━━━━\u001b[0m\u001b[37m\u001b[0m \u001b[1m5s\u001b[0m 3s/step - accuracy: 1.0000 - loss: 0.0044 - val_accuracy: 0.2727 - val_loss: 15.8360\n",
            "Epoch 14/15\n",
            "\u001b[1m2/2\u001b[0m \u001b[32m━━━━━━━━━━━━━━━━━━━━\u001b[0m\u001b[37m\u001b[0m \u001b[1m5s\u001b[0m 3s/step - accuracy: 0.9545 - loss: 0.1238 - val_accuracy: 0.2955 - val_loss: 19.3504\n",
            "Epoch 15/15\n",
            "\u001b[1m2/2\u001b[0m \u001b[32m━━━━━━━━━━━━━━━━━━━━\u001b[0m\u001b[37m\u001b[0m \u001b[1m5s\u001b[0m 3s/step - accuracy: 0.9697 - loss: 0.0669 - val_accuracy: 0.3182 - val_loss: 15.7005\n",
            "\n",
            "Fitting Model:  inception_v3\n",
            "Epoch 1/15\n",
            "\u001b[1m2/2\u001b[0m \u001b[32m━━━━━━━━━━━━━━━━━━━━\u001b[0m\u001b[37m\u001b[0m \u001b[1m13s\u001b[0m 4s/step - accuracy: 0.2424 - loss: 1.7079 - val_accuracy: 0.2273 - val_loss: 2.4520\n",
            "Epoch 2/15\n",
            "\u001b[1m2/2\u001b[0m \u001b[32m━━━━━━━━━━━━━━━━━━━━\u001b[0m\u001b[37m\u001b[0m \u001b[1m3s\u001b[0m 2s/step - accuracy: 0.4242 - loss: 2.0305 - val_accuracy: 0.2500 - val_loss: 1.7062\n",
            "Epoch 3/15\n",
            "\u001b[1m2/2\u001b[0m \u001b[32m━━━━━━━━━━━━━━━━━━━━\u001b[0m\u001b[37m\u001b[0m \u001b[1m3s\u001b[0m 2s/step - accuracy: 0.4697 - loss: 1.1313 - val_accuracy: 0.2500 - val_loss: 1.6855\n",
            "Epoch 4/15\n",
            "\u001b[1m2/2\u001b[0m \u001b[32m━━━━━━━━━━━━━━━━━━━━\u001b[0m\u001b[37m\u001b[0m \u001b[1m3s\u001b[0m 2s/step - accuracy: 0.4697 - loss: 1.0880 - val_accuracy: 0.2500 - val_loss: 1.4960\n",
            "Epoch 5/15\n",
            "\u001b[1m2/2\u001b[0m \u001b[32m━━━━━━━━━━━━━━━━━━━━\u001b[0m\u001b[37m\u001b[0m \u001b[1m3s\u001b[0m 2s/step - accuracy: 0.5303 - loss: 0.8424 - val_accuracy: 0.3864 - val_loss: 1.3333\n",
            "Epoch 6/15\n",
            "\u001b[1m2/2\u001b[0m \u001b[32m━━━━━━━━━━━━━━━━━━━━\u001b[0m\u001b[37m\u001b[0m \u001b[1m3s\u001b[0m 2s/step - accuracy: 0.6212 - loss: 0.8440 - val_accuracy: 0.4545 - val_loss: 1.3425\n",
            "Epoch 7/15\n",
            "\u001b[1m2/2\u001b[0m \u001b[32m━━━━━━━━━━━━━━━━━━━━\u001b[0m\u001b[37m\u001b[0m \u001b[1m3s\u001b[0m 2s/step - accuracy: 0.5758 - loss: 0.8804 - val_accuracy: 0.2955 - val_loss: 1.4232\n",
            "Epoch 8/15\n",
            "\u001b[1m2/2\u001b[0m \u001b[32m━━━━━━━━━━━━━━━━━━━━\u001b[0m\u001b[37m\u001b[0m \u001b[1m3s\u001b[0m 2s/step - accuracy: 0.6818 - loss: 0.6622 - val_accuracy: 0.2045 - val_loss: 1.7282\n",
            "Epoch 9/15\n",
            "\u001b[1m2/2\u001b[0m \u001b[32m━━━━━━━━━━━━━━━━━━━━\u001b[0m\u001b[37m\u001b[0m \u001b[1m3s\u001b[0m 2s/step - accuracy: 0.6970 - loss: 0.6282 - val_accuracy: 0.2500 - val_loss: 1.8937\n",
            "Epoch 10/15\n",
            "\u001b[1m2/2\u001b[0m \u001b[32m━━━━━━━━━━━━━━━━━━━━\u001b[0m\u001b[37m\u001b[0m \u001b[1m3s\u001b[0m 2s/step - accuracy: 0.7576 - loss: 0.5670 - val_accuracy: 0.2500 - val_loss: 1.7818\n",
            "Epoch 11/15\n",
            "\u001b[1m2/2\u001b[0m \u001b[32m━━━━━━━━━━━━━━━━━━━━\u001b[0m\u001b[37m\u001b[0m \u001b[1m3s\u001b[0m 2s/step - accuracy: 0.7424 - loss: 0.4811 - val_accuracy: 0.4545 - val_loss: 1.3243\n",
            "Epoch 12/15\n",
            "\u001b[1m2/2\u001b[0m \u001b[32m━━━━━━━━━━━━━━━━━━━━\u001b[0m\u001b[37m\u001b[0m \u001b[1m3s\u001b[0m 2s/step - accuracy: 0.9242 - loss: 0.3705 - val_accuracy: 0.4318 - val_loss: 1.3451\n",
            "Epoch 13/15\n",
            "\u001b[1m2/2\u001b[0m \u001b[32m━━━━━━━━━━━━━━━━━━━━\u001b[0m\u001b[37m\u001b[0m \u001b[1m3s\u001b[0m 2s/step - accuracy: 0.8636 - loss: 0.3926 - val_accuracy: 0.2727 - val_loss: 1.5023\n",
            "Epoch 14/15\n",
            "\u001b[1m2/2\u001b[0m \u001b[32m━━━━━━━━━━━━━━━━━━━━\u001b[0m\u001b[37m\u001b[0m \u001b[1m3s\u001b[0m 2s/step - accuracy: 0.8939 - loss: 0.4287 - val_accuracy: 0.3636 - val_loss: 1.6404\n",
            "Epoch 15/15\n",
            "\u001b[1m2/2\u001b[0m \u001b[32m━━━━━━━━━━━━━━━━━━━━\u001b[0m\u001b[37m\u001b[0m \u001b[1m3s\u001b[0m 2s/step - accuracy: 0.8939 - loss: 0.2962 - val_accuracy: 0.3409 - val_loss: 1.6582\n",
            "\n",
            "Fitting Model:  mobilenetv2_1.00_224\n",
            "Epoch 1/15\n",
            "\u001b[1m2/2\u001b[0m \u001b[32m━━━━━━━━━━━━━━━━━━━━\u001b[0m\u001b[37m\u001b[0m \u001b[1m10s\u001b[0m 4s/step - accuracy: 0.3788 - loss: 1.5756 - val_accuracy: 0.3182 - val_loss: 1.3941\n",
            "Epoch 2/15\n",
            "\u001b[1m2/2\u001b[0m \u001b[32m━━━━━━━━━━━━━━━━━━━━\u001b[0m\u001b[37m\u001b[0m \u001b[1m3s\u001b[0m 2s/step - accuracy: 0.7273 - loss: 0.6825 - val_accuracy: 0.2045 - val_loss: 1.5633\n",
            "Epoch 3/15\n",
            "\u001b[1m2/2\u001b[0m \u001b[32m━━━━━━━━━━━━━━━━━━━━\u001b[0m\u001b[37m\u001b[0m \u001b[1m3s\u001b[0m 2s/step - accuracy: 0.9091 - loss: 0.3265 - val_accuracy: 0.2955 - val_loss: 2.0119\n",
            "Epoch 4/15\n",
            "\u001b[1m2/2\u001b[0m \u001b[32m━━━━━━━━━━━━━━━━━━━━\u001b[0m\u001b[37m\u001b[0m \u001b[1m3s\u001b[0m 2s/step - accuracy: 0.8939 - loss: 0.2898 - val_accuracy: 0.2727 - val_loss: 2.2696\n",
            "Epoch 5/15\n",
            "\u001b[1m2/2\u001b[0m \u001b[32m━━━━━━━━━━━━━━━━━━━━\u001b[0m\u001b[37m\u001b[0m \u001b[1m3s\u001b[0m 2s/step - accuracy: 0.9848 - loss: 0.1243 - val_accuracy: 0.2273 - val_loss: 2.9367\n",
            "Epoch 6/15\n",
            "\u001b[1m2/2\u001b[0m \u001b[32m━━━━━━━━━━━━━━━━━━━━\u001b[0m\u001b[37m\u001b[0m \u001b[1m3s\u001b[0m 2s/step - accuracy: 0.9545 - loss: 0.1486 - val_accuracy: 0.2500 - val_loss: 3.5560\n",
            "Epoch 7/15\n",
            "\u001b[1m2/2\u001b[0m \u001b[32m━━━━━━━━━━━━━━━━━━━━\u001b[0m\u001b[37m\u001b[0m \u001b[1m3s\u001b[0m 2s/step - accuracy: 1.0000 - loss: 0.0186 - val_accuracy: 0.2500 - val_loss: 4.9862\n",
            "Epoch 8/15\n",
            "\u001b[1m2/2\u001b[0m \u001b[32m━━━━━━━━━━━━━━━━━━━━\u001b[0m\u001b[37m\u001b[0m \u001b[1m3s\u001b[0m 2s/step - accuracy: 1.0000 - loss: 0.0308 - val_accuracy: 0.2500 - val_loss: 5.9229\n",
            "Epoch 9/15\n",
            "\u001b[1m2/2\u001b[0m \u001b[32m━━━━━━━━━━━━━━━━━━━━\u001b[0m\u001b[37m\u001b[0m \u001b[1m3s\u001b[0m 2s/step - accuracy: 0.9697 - loss: 0.0561 - val_accuracy: 0.2955 - val_loss: 4.4340\n",
            "Epoch 10/15\n",
            "\u001b[1m2/2\u001b[0m \u001b[32m━━━━━━━━━━━━━━━━━━━━\u001b[0m\u001b[37m\u001b[0m \u001b[1m3s\u001b[0m 2s/step - accuracy: 0.9848 - loss: 0.0467 - val_accuracy: 0.2727 - val_loss: 4.5668\n",
            "Epoch 11/15\n",
            "\u001b[1m2/2\u001b[0m \u001b[32m━━━━━━━━━━━━━━━━━━━━\u001b[0m\u001b[37m\u001b[0m \u001b[1m3s\u001b[0m 2s/step - accuracy: 0.9848 - loss: 0.0295 - val_accuracy: 0.2955 - val_loss: 5.3040\n",
            "Epoch 12/15\n",
            "\u001b[1m2/2\u001b[0m \u001b[32m━━━━━━━━━━━━━━━━━━━━\u001b[0m\u001b[37m\u001b[0m \u001b[1m3s\u001b[0m 2s/step - accuracy: 1.0000 - loss: 5.6600e-04 - val_accuracy: 0.1818 - val_loss: 7.0349\n",
            "Epoch 13/15\n",
            "\u001b[1m2/2\u001b[0m \u001b[32m━━━━━━━━━━━━━━━━━━━━\u001b[0m\u001b[37m\u001b[0m \u001b[1m3s\u001b[0m 2s/step - accuracy: 0.9848 - loss: 0.0251 - val_accuracy: 0.1818 - val_loss: 8.3270\n",
            "Epoch 14/15\n",
            "\u001b[1m2/2\u001b[0m \u001b[32m━━━━━━━━━━━━━━━━━━━━\u001b[0m\u001b[37m\u001b[0m \u001b[1m3s\u001b[0m 2s/step - accuracy: 1.0000 - loss: 0.0180 - val_accuracy: 0.2955 - val_loss: 8.5388\n",
            "Epoch 15/15\n",
            "\u001b[1m2/2\u001b[0m \u001b[32m━━━━━━━━━━━━━━━━━━━━\u001b[0m\u001b[37m\u001b[0m \u001b[1m3s\u001b[0m 2s/step - accuracy: 0.9697 - loss: 0.0336 - val_accuracy: 0.2045 - val_loss: 8.6710\n",
            "\n",
            "Fitting Model:  densenet201\n",
            "Epoch 1/15\n",
            "\u001b[1m2/2\u001b[0m \u001b[32m━━━━━━━━━━━━━━━━━━━━\u001b[0m\u001b[37m\u001b[0m \u001b[1m34s\u001b[0m 13s/step - accuracy: 0.2424 - loss: 1.5737 - val_accuracy: 0.2045 - val_loss: 1.4448\n",
            "Epoch 2/15\n",
            "\u001b[1m2/2\u001b[0m \u001b[32m━━━━━━━━━━━━━━━━━━━━\u001b[0m\u001b[37m\u001b[0m \u001b[1m11s\u001b[0m 8s/step - accuracy: 0.6212 - loss: 1.1171 - val_accuracy: 0.3182 - val_loss: 1.3361\n",
            "Epoch 3/15\n",
            "\u001b[1m2/2\u001b[0m \u001b[32m━━━━━━━━━━━━━━━━━━━━\u001b[0m\u001b[37m\u001b[0m \u001b[1m11s\u001b[0m 8s/step - accuracy: 0.5758 - loss: 0.9063 - val_accuracy: 0.3864 - val_loss: 1.4573\n",
            "Epoch 4/15\n",
            "\u001b[1m2/2\u001b[0m \u001b[32m━━━━━━━━━━━━━━━━━━━━\u001b[0m\u001b[37m\u001b[0m \u001b[1m11s\u001b[0m 8s/step - accuracy: 0.7727 - loss: 0.7126 - val_accuracy: 0.3864 - val_loss: 1.2992\n",
            "Epoch 5/15\n",
            "\u001b[1m2/2\u001b[0m \u001b[32m━━━━━━━━━━━━━━━━━━━━\u001b[0m\u001b[37m\u001b[0m \u001b[1m11s\u001b[0m 8s/step - accuracy: 0.8182 - loss: 0.5204 - val_accuracy: 0.2727 - val_loss: 1.7809\n",
            "Epoch 6/15\n",
            "\u001b[1m2/2\u001b[0m \u001b[32m━━━━━━━━━━━━━━━━━━━━\u001b[0m\u001b[37m\u001b[0m \u001b[1m11s\u001b[0m 8s/step - accuracy: 0.8182 - loss: 0.4867 - val_accuracy: 0.2955 - val_loss: 1.6827\n",
            "Epoch 7/15\n",
            "\u001b[1m2/2\u001b[0m \u001b[32m━━━━━━━━━━━━━━━━━━━━\u001b[0m\u001b[37m\u001b[0m \u001b[1m11s\u001b[0m 8s/step - accuracy: 0.9242 - loss: 0.2957 - val_accuracy: 0.3409 - val_loss: 1.7105\n",
            "Epoch 8/15\n",
            "\u001b[1m2/2\u001b[0m \u001b[32m━━━━━━━━━━━━━━━━━━━━\u001b[0m\u001b[37m\u001b[0m \u001b[1m11s\u001b[0m 8s/step - accuracy: 0.9242 - loss: 0.2625 - val_accuracy: 0.2500 - val_loss: 1.9180\n",
            "Epoch 9/15\n",
            "\u001b[1m2/2\u001b[0m \u001b[32m━━━━━━━━━━━━━━━━━━━━\u001b[0m\u001b[37m\u001b[0m \u001b[1m11s\u001b[0m 8s/step - accuracy: 0.9545 - loss: 0.2094 - val_accuracy: 0.2500 - val_loss: 2.2413\n",
            "Epoch 10/15\n",
            "\u001b[1m2/2\u001b[0m \u001b[32m━━━━━━━━━━━━━━━━━━━━\u001b[0m\u001b[37m\u001b[0m \u001b[1m10s\u001b[0m 8s/step - accuracy: 0.9242 - loss: 0.2922 - val_accuracy: 0.3409 - val_loss: 1.6445\n",
            "Epoch 11/15\n",
            "\u001b[1m2/2\u001b[0m \u001b[32m━━━━━━━━━━━━━━━━━━━━\u001b[0m\u001b[37m\u001b[0m \u001b[1m11s\u001b[0m 8s/step - accuracy: 0.9697 - loss: 0.1228 - val_accuracy: 0.5227 - val_loss: 1.7499\n",
            "Epoch 12/15\n",
            "\u001b[1m2/2\u001b[0m \u001b[32m━━━━━━━━━━━━━━━━━━━━\u001b[0m\u001b[37m\u001b[0m \u001b[1m11s\u001b[0m 8s/step - accuracy: 0.9697 - loss: 0.0868 - val_accuracy: 0.4318 - val_loss: 2.0860\n",
            "Epoch 13/15\n",
            "\u001b[1m2/2\u001b[0m \u001b[32m━━━━━━━━━━━━━━━━━━━━\u001b[0m\u001b[37m\u001b[0m \u001b[1m11s\u001b[0m 8s/step - accuracy: 1.0000 - loss: 0.0407 - val_accuracy: 0.4545 - val_loss: 1.9319\n",
            "Epoch 14/15\n",
            "\u001b[1m2/2\u001b[0m \u001b[32m━━━━━━━━━━━━━━━━━━━━\u001b[0m\u001b[37m\u001b[0m \u001b[1m10s\u001b[0m 7s/step - accuracy: 0.9697 - loss: 0.0614 - val_accuracy: 0.3864 - val_loss: 2.1162\n",
            "Epoch 15/15\n",
            "\u001b[1m2/2\u001b[0m \u001b[32m━━━━━━━━━━━━━━━━━━━━\u001b[0m\u001b[37m\u001b[0m \u001b[1m10s\u001b[0m 7s/step - accuracy: 1.0000 - loss: 0.0275 - val_accuracy: 0.3409 - val_loss: 2.2247\n",
            "\n",
            "Fitting Model:  NASNet\n",
            "Epoch 1/15\n",
            "\u001b[1m2/2\u001b[0m \u001b[32m━━━━━━━━━━━━━━━━━━━━\u001b[0m\u001b[37m\u001b[0m \u001b[1m25s\u001b[0m 7s/step - accuracy: 0.2576 - loss: 1.5219 - val_accuracy: 0.2955 - val_loss: 1.3320\n",
            "Epoch 2/15\n",
            "\u001b[1m2/2\u001b[0m \u001b[32m━━━━━━━━━━━━━━━━━━━━\u001b[0m\u001b[37m\u001b[0m \u001b[1m3s\u001b[0m 2s/step - accuracy: 0.5606 - loss: 1.0411 - val_accuracy: 0.4091 - val_loss: 1.3020\n",
            "Epoch 3/15\n",
            "\u001b[1m2/2\u001b[0m \u001b[32m━━━━━━━━━━━━━━━━━━━━\u001b[0m\u001b[37m\u001b[0m \u001b[1m3s\u001b[0m 2s/step - accuracy: 0.7727 - loss: 0.7925 - val_accuracy: 0.2727 - val_loss: 1.4689\n",
            "Epoch 4/15\n",
            "\u001b[1m2/2\u001b[0m \u001b[32m━━━━━━━━━━━━━━━━━━━━\u001b[0m\u001b[37m\u001b[0m \u001b[1m3s\u001b[0m 2s/step - accuracy: 0.6212 - loss: 0.8107 - val_accuracy: 0.2955 - val_loss: 1.5213\n",
            "Epoch 5/15\n",
            "\u001b[1m2/2\u001b[0m \u001b[32m━━━━━━━━━━━━━━━━━━━━\u001b[0m\u001b[37m\u001b[0m \u001b[1m3s\u001b[0m 2s/step - accuracy: 0.7727 - loss: 0.6755 - val_accuracy: 0.3409 - val_loss: 1.5038\n",
            "Epoch 6/15\n",
            "\u001b[1m2/2\u001b[0m \u001b[32m━━━━━━━━━━━━━━━━━━━━\u001b[0m\u001b[37m\u001b[0m \u001b[1m3s\u001b[0m 2s/step - accuracy: 0.7879 - loss: 0.5566 - val_accuracy: 0.3409 - val_loss: 1.4754\n",
            "Epoch 7/15\n",
            "\u001b[1m2/2\u001b[0m \u001b[32m━━━━━━━━━━━━━━━━━━━━\u001b[0m\u001b[37m\u001b[0m \u001b[1m3s\u001b[0m 2s/step - accuracy: 0.8030 - loss: 0.5842 - val_accuracy: 0.4773 - val_loss: 1.3234\n",
            "Epoch 8/15\n",
            "\u001b[1m2/2\u001b[0m \u001b[32m━━━━━━━━━━━━━━━━━━━━\u001b[0m\u001b[37m\u001b[0m \u001b[1m3s\u001b[0m 2s/step - accuracy: 0.8636 - loss: 0.4491 - val_accuracy: 0.2727 - val_loss: 1.5859\n",
            "Epoch 9/15\n",
            "\u001b[1m2/2\u001b[0m \u001b[32m━━━━━━━━━━━━━━━━━━━━\u001b[0m\u001b[37m\u001b[0m \u001b[1m3s\u001b[0m 2s/step - accuracy: 0.8333 - loss: 0.4305 - val_accuracy: 0.3182 - val_loss: 1.9088\n",
            "Epoch 10/15\n",
            "\u001b[1m2/2\u001b[0m \u001b[32m━━━━━━━━━━━━━━━━━━━━\u001b[0m\u001b[37m\u001b[0m \u001b[1m3s\u001b[0m 2s/step - accuracy: 0.9242 - loss: 0.3050 - val_accuracy: 0.1818 - val_loss: 2.5214\n",
            "Epoch 11/15\n",
            "\u001b[1m2/2\u001b[0m \u001b[32m━━━━━━━━━━━━━━━━━━━━\u001b[0m\u001b[37m\u001b[0m \u001b[1m3s\u001b[0m 2s/step - accuracy: 0.8182 - loss: 0.3995 - val_accuracy: 0.2955 - val_loss: 2.2494\n",
            "Epoch 12/15\n",
            "\u001b[1m2/2\u001b[0m \u001b[32m━━━━━━━━━━━━━━━━━━━━\u001b[0m\u001b[37m\u001b[0m \u001b[1m3s\u001b[0m 2s/step - accuracy: 0.8939 - loss: 0.2898 - val_accuracy: 0.3182 - val_loss: 1.7845\n",
            "Epoch 13/15\n",
            "\u001b[1m2/2\u001b[0m \u001b[32m━━━━━━━━━━━━━━━━━━━━\u001b[0m\u001b[37m\u001b[0m \u001b[1m3s\u001b[0m 2s/step - accuracy: 0.8485 - loss: 0.3353 - val_accuracy: 0.2045 - val_loss: 2.5476\n",
            "Epoch 14/15\n",
            "\u001b[1m2/2\u001b[0m \u001b[32m━━━━━━━━━━━━━━━━━━━━\u001b[0m\u001b[37m\u001b[0m \u001b[1m3s\u001b[0m 2s/step - accuracy: 0.8939 - loss: 0.2632 - val_accuracy: 0.2500 - val_loss: 2.7850\n",
            "Epoch 15/15\n",
            "\u001b[1m2/2\u001b[0m \u001b[32m━━━━━━━━━━━━━━━━━━━━\u001b[0m\u001b[37m\u001b[0m \u001b[1m3s\u001b[0m 2s/step - accuracy: 0.9242 - loss: 0.2064 - val_accuracy: 0.4091 - val_loss: 1.7915\n",
            "\n",
            "Fitting Model:  efficientnetv2-s\n",
            "Epoch 1/15\n",
            "\u001b[1m2/2\u001b[0m \u001b[32m━━━━━━━━━━━━━━━━━━━━\u001b[0m\u001b[37m\u001b[0m \u001b[1m29s\u001b[0m 8s/step - accuracy: 0.3333 - loss: 1.3234 - val_accuracy: 0.2727 - val_loss: 1.7422\n",
            "Epoch 2/15\n",
            "\u001b[1m2/2\u001b[0m \u001b[32m━━━━━━━━━━━━━━━━━━━━\u001b[0m\u001b[37m\u001b[0m \u001b[1m6s\u001b[0m 4s/step - accuracy: 0.4697 - loss: 1.1687 - val_accuracy: 0.3409 - val_loss: 1.7410\n",
            "Epoch 3/15\n",
            "\u001b[1m2/2\u001b[0m \u001b[32m━━━━━━━━━━━━━━━━━━━━\u001b[0m\u001b[37m\u001b[0m \u001b[1m6s\u001b[0m 4s/step - accuracy: 0.6364 - loss: 0.8806 - val_accuracy: 0.3182 - val_loss: 2.0180\n",
            "Epoch 4/15\n",
            "\u001b[1m2/2\u001b[0m \u001b[32m━━━━━━━━━━━━━━━━━━━━\u001b[0m\u001b[37m\u001b[0m \u001b[1m6s\u001b[0m 4s/step - accuracy: 0.5758 - loss: 0.8837 - val_accuracy: 0.3182 - val_loss: 2.3505\n",
            "Epoch 5/15\n",
            "\u001b[1m2/2\u001b[0m \u001b[32m━━━━━━━━━━━━━━━━━━━━\u001b[0m\u001b[37m\u001b[0m \u001b[1m6s\u001b[0m 4s/step - accuracy: 0.5909 - loss: 0.8767 - val_accuracy: 0.3636 - val_loss: 2.1009\n",
            "Epoch 6/15\n",
            "\u001b[1m2/2\u001b[0m \u001b[32m━━━━━━━━━━━━━━━━━━━━\u001b[0m\u001b[37m\u001b[0m \u001b[1m6s\u001b[0m 4s/step - accuracy: 0.6667 - loss: 0.7425 - val_accuracy: 0.3409 - val_loss: 1.8093\n",
            "Epoch 7/15\n",
            "\u001b[1m2/2\u001b[0m \u001b[32m━━━━━━━━━━━━━━━━━━━━\u001b[0m\u001b[37m\u001b[0m \u001b[1m6s\u001b[0m 4s/step - accuracy: 0.6212 - loss: 0.8017 - val_accuracy: 0.3864 - val_loss: 1.7842\n",
            "Epoch 8/15\n",
            "\u001b[1m2/2\u001b[0m \u001b[32m━━━━━━━━━━━━━━━━━━━━\u001b[0m\u001b[37m\u001b[0m \u001b[1m6s\u001b[0m 4s/step - accuracy: 0.6667 - loss: 0.7755 - val_accuracy: 0.3636 - val_loss: 2.0804\n",
            "Epoch 9/15\n",
            "\u001b[1m2/2\u001b[0m \u001b[32m━━━━━━━━━━━━━━━━━━━━\u001b[0m\u001b[37m\u001b[0m \u001b[1m6s\u001b[0m 4s/step - accuracy: 0.6061 - loss: 0.8868 - val_accuracy: 0.4091 - val_loss: 1.7840\n",
            "Epoch 10/15\n",
            "\u001b[1m2/2\u001b[0m \u001b[32m━━━━━━━━━━━━━━━━━━━━\u001b[0m\u001b[37m\u001b[0m \u001b[1m6s\u001b[0m 4s/step - accuracy: 0.6212 - loss: 0.7862 - val_accuracy: 0.4091 - val_loss: 1.7805\n",
            "Epoch 11/15\n",
            "\u001b[1m2/2\u001b[0m \u001b[32m━━━━━━━━━━━━━━━━━━━━\u001b[0m\u001b[37m\u001b[0m \u001b[1m6s\u001b[0m 4s/step - accuracy: 0.5758 - loss: 0.8506 - val_accuracy: 0.4091 - val_loss: 1.9983\n",
            "Epoch 12/15\n",
            "\u001b[1m2/2\u001b[0m \u001b[32m━━━━━━━━━━━━━━━━━━━━\u001b[0m\u001b[37m\u001b[0m \u001b[1m6s\u001b[0m 4s/step - accuracy: 0.5303 - loss: 0.7653 - val_accuracy: 0.3864 - val_loss: 1.8060\n",
            "Epoch 13/15\n",
            "\u001b[1m2/2\u001b[0m \u001b[32m━━━━━━━━━━━━━━━━━━━━\u001b[0m\u001b[37m\u001b[0m \u001b[1m6s\u001b[0m 4s/step - accuracy: 0.6061 - loss: 0.7729 - val_accuracy: 0.4318 - val_loss: 1.8300\n",
            "Epoch 14/15\n",
            "\u001b[1m2/2\u001b[0m \u001b[32m━━━━━━━━━━━━━━━━━━━━\u001b[0m\u001b[37m\u001b[0m \u001b[1m6s\u001b[0m 4s/step - accuracy: 0.6818 - loss: 0.7080 - val_accuracy: 0.3636 - val_loss: 1.7722\n",
            "Epoch 15/15\n",
            "\u001b[1m2/2\u001b[0m \u001b[32m━━━━━━━━━━━━━━━━━━━━\u001b[0m\u001b[37m\u001b[0m \u001b[1m6s\u001b[0m 4s/step - accuracy: 0.6818 - loss: 0.6794 - val_accuracy: 0.4091 - val_loss: 1.9452\n",
            "\n",
            "Fitting Model:  convnext_tiny\n",
            "Epoch 1/15\n",
            "\u001b[1m2/2\u001b[0m \u001b[32m━━━━━━━━━━━━━━━━━━━━\u001b[0m\u001b[37m\u001b[0m \u001b[1m89s\u001b[0m 38s/step - accuracy: 0.2879 - loss: 1.7402 - val_accuracy: 0.2500 - val_loss: 2.2034\n",
            "Epoch 2/15\n",
            "\u001b[1m2/2\u001b[0m \u001b[32m━━━━━━━━━━━━━━━━━━━━\u001b[0m\u001b[37m\u001b[0m \u001b[1m48s\u001b[0m 34s/step - accuracy: 0.2121 - loss: 2.1262 - val_accuracy: 0.1818 - val_loss: 1.2908\n",
            "Epoch 3/15\n",
            "\u001b[1m2/2\u001b[0m \u001b[32m━━━━━━━━━━━━━━━━━━━━\u001b[0m\u001b[37m\u001b[0m \u001b[1m49s\u001b[0m 35s/step - accuracy: 0.3939 - loss: 1.2741 - val_accuracy: 0.2500 - val_loss: 1.8515\n",
            "Epoch 4/15\n",
            "\u001b[1m2/2\u001b[0m \u001b[32m━━━━━━━━━━━━━━━━━━━━\u001b[0m\u001b[37m\u001b[0m \u001b[1m49s\u001b[0m 35s/step - accuracy: 0.3939 - loss: 1.4561 - val_accuracy: 0.2955 - val_loss: 1.4580\n",
            "Epoch 5/15\n",
            "\u001b[1m2/2\u001b[0m \u001b[32m━━━━━━━━━━━━━━━━━━━━\u001b[0m\u001b[37m\u001b[0m \u001b[1m50s\u001b[0m 36s/step - accuracy: 0.4848 - loss: 1.0436 - val_accuracy: 0.4773 - val_loss: 1.1011\n",
            "Epoch 6/15\n",
            "\u001b[1m2/2\u001b[0m \u001b[32m━━━━━━━━━━━━━━━━━━━━\u001b[0m\u001b[37m\u001b[0m \u001b[1m44s\u001b[0m 32s/step - accuracy: 0.5758 - loss: 0.9601 - val_accuracy: 0.4773 - val_loss: 1.1090\n",
            "Epoch 7/15\n",
            "\u001b[1m2/2\u001b[0m \u001b[32m━━━━━━━━━━━━━━━━━━━━\u001b[0m\u001b[37m\u001b[0m \u001b[1m44s\u001b[0m 32s/step - accuracy: 0.4242 - loss: 0.9546 - val_accuracy: 0.4318 - val_loss: 1.0673\n",
            "Epoch 8/15\n",
            "\u001b[1m2/2\u001b[0m \u001b[32m━━━━━━━━━━━━━━━━━━━━\u001b[0m\u001b[37m\u001b[0m \u001b[1m44s\u001b[0m 32s/step - accuracy: 0.4242 - loss: 0.9710 - val_accuracy: 0.3864 - val_loss: 1.1881\n",
            "Epoch 9/15\n",
            "\u001b[1m2/2\u001b[0m \u001b[32m━━━━━━━━━━━━━━━━━━━━\u001b[0m\u001b[37m\u001b[0m \u001b[1m55s\u001b[0m 42s/step - accuracy: 0.5455 - loss: 0.8192 - val_accuracy: 0.5000 - val_loss: 1.3766\n",
            "Epoch 10/15\n",
            "\u001b[1m2/2\u001b[0m \u001b[32m━━━━━━━━━━━━━━━━━━━━\u001b[0m\u001b[37m\u001b[0m \u001b[1m58s\u001b[0m 40s/step - accuracy: 0.5758 - loss: 0.8766 - val_accuracy: 0.4545 - val_loss: 1.3346\n",
            "Epoch 11/15\n",
            "\u001b[1m2/2\u001b[0m \u001b[32m━━━━━━━━━━━━━━━━━━━━\u001b[0m\u001b[37m\u001b[0m \u001b[1m56s\u001b[0m 40s/step - accuracy: 0.6364 - loss: 0.8713 - val_accuracy: 0.4545 - val_loss: 1.1150\n",
            "Epoch 12/15\n",
            "\u001b[1m2/2\u001b[0m \u001b[32m━━━━━━━━━━━━━━━━━━━━\u001b[0m\u001b[37m\u001b[0m \u001b[1m51s\u001b[0m 37s/step - accuracy: 0.4545 - loss: 0.9290 - val_accuracy: 0.4545 - val_loss: 0.9707\n",
            "Epoch 13/15\n",
            "\u001b[1m2/2\u001b[0m \u001b[32m━━━━━━━━━━━━━━━━━━━━\u001b[0m\u001b[37m\u001b[0m \u001b[1m52s\u001b[0m 37s/step - accuracy: 0.5455 - loss: 0.8833 - val_accuracy: 0.5227 - val_loss: 0.9615\n",
            "Epoch 14/15\n",
            "\u001b[1m2/2\u001b[0m \u001b[32m━━━━━━━━━━━━━━━━━━━━\u001b[0m\u001b[37m\u001b[0m \u001b[1m50s\u001b[0m 36s/step - accuracy: 0.5909 - loss: 0.8165 - val_accuracy: 0.5455 - val_loss: 0.8882\n",
            "Epoch 15/15\n",
            "\u001b[1m2/2\u001b[0m \u001b[32m━━━━━━━━━━━━━━━━━━━━\u001b[0m\u001b[37m\u001b[0m \u001b[1m54s\u001b[0m 38s/step - accuracy: 0.4697 - loss: 0.8638 - val_accuracy: 0.5000 - val_loss: 0.8917\n",
            "\n"
          ]
        }
      ],
      "source": [
        "# fit the model\n",
        "# Run the cell. It will take some time to execute\n",
        "model_hist_lst = []\n",
        "for model, pre_model in zip(classify_models, pre_trained_models): \n",
        "  print('Fitting Model: ', pre_model.name)\n",
        "  hist = model.fit(\n",
        "    training_set,\n",
        "    validation_data=test_set,\n",
        "    epochs=15,\n",
        "    # steps_per_epoch=len(training_set),\n",
        "    # validation_steps=len(test_set)\n",
        "  )\n",
        "  model_hist_lst.append(hist)\n",
        "  print()"
      ]
    },
    {
      "cell_type": "code",
      "execution_count": 17,
      "metadata": {},
      "outputs": [
        {
          "name": "stdout",
          "output_type": "stream",
          "text": [
            "[1 1 2 3 2 0 1 3 2 0 2 2 1 0 2 2 2 3 0 0 3 0 1 1 0 3 1 1 0 3 3 2 3 1 2 1 3\n",
            " 0 3 3 0 1 2 0]\n",
            "44\n",
            "(array([0, 1, 2, 3], dtype=int64), array([11, 11, 11, 11], dtype=int64))\n"
          ]
        }
      ],
      "source": [
        "# Validation set - True value preparation\n",
        "pred_set = valid_set\n",
        "n = len(pred_set)\n",
        "input_lst = []\n",
        "output_lst = []\n",
        "for i in range(n): \n",
        "    set1 = next(training_set)\n",
        "    input1 = set1[0]\n",
        "    output1 = set1[1]\n",
        "    y_true1 = np.argmax(output1, axis=1)\n",
        "    input_lst.append(input1)\n",
        "    output_lst.extend(y_true1)\n",
        "input_arr = np.concatenate(input_lst)\n",
        "output_lst = np.array(output_lst)\n",
        "print(output_lst)\n",
        "print(len(output_lst))\n",
        "print(np.unique(output_lst, return_counts=True))\n"
      ]
    },
    {
      "cell_type": "code",
      "execution_count": 18,
      "metadata": {
        "colab": {
          "base_uri": "https://localhost:8080/"
        },
        "id": "OKMrH07HPqtB",
        "outputId": "a1870c80-d59a-4614-c824-f5312221267f"
      },
      "outputs": [
        {
          "name": "stdout",
          "output_type": "stream",
          "text": [
            "\u001b[1m2/2\u001b[0m \u001b[32m━━━━━━━━━━━━━━━━━━━━\u001b[0m\u001b[37m\u001b[0m \u001b[1m6s\u001b[0m 2s/step\n",
            "Model Name:  xception\n",
            "Predictions:  [1 3 2 3 2 0 3 3 2 3 2 2 3 0 2 2 2 3 0 0 3 0 1 3 0 3 3 1 0 3 3 2 3 1 2 3 3\n",
            " 0 3 3 0 3 2 0]\n",
            "No of Predictions:  44\n",
            "Predictions Class wise:  (array([0, 1, 2, 3], dtype=int64), array([10,  4, 11, 19], dtype=int64))\n",
            "\n",
            "\u001b[1m2/2\u001b[0m \u001b[32m━━━━━━━━━━━━━━━━━━━━\u001b[0m\u001b[37m\u001b[0m \u001b[1m5s\u001b[0m 1s/step\n",
            "Model Name:  vgg19\n",
            "Predictions:  [3 3 2 3 2 2 2 2 2 2 2 2 3 2 2 2 2 2 3 2 2 3 3 3 2 2 2 3 2 3 3 2 3 3 2 3 2\n",
            " 3 2 2 2 2 2 3]\n",
            "No of Predictions:  44\n",
            "Predictions Class wise:  (array([2, 3], dtype=int64), array([28, 16], dtype=int64))\n",
            "\n",
            "WARNING:tensorflow:5 out of the last 5 calls to <function TensorFlowTrainer.make_predict_function.<locals>.one_step_on_data_distributed at 0x00000264A3B0BA60> triggered tf.function retracing. Tracing is expensive and the excessive number of tracings could be due to (1) creating @tf.function repeatedly in a loop, (2) passing tensors with different shapes, (3) passing Python objects instead of tensors. For (1), please define your @tf.function outside of the loop. For (2), @tf.function has reduce_retracing=True option that can avoid unnecessary retracing. For (3), please refer to https://www.tensorflow.org/guide/function#controlling_retracing and https://www.tensorflow.org/api_docs/python/tf/function for  more details.\n",
            "\u001b[1m1/2\u001b[0m \u001b[32m━━━━━━━━━━\u001b[0m\u001b[37m━━━━━━━━━━\u001b[0m \u001b[1m3s\u001b[0m 4s/stepWARNING:tensorflow:6 out of the last 6 calls to <function TensorFlowTrainer.make_predict_function.<locals>.one_step_on_data_distributed at 0x00000264A3B0BA60> triggered tf.function retracing. Tracing is expensive and the excessive number of tracings could be due to (1) creating @tf.function repeatedly in a loop, (2) passing tensors with different shapes, (3) passing Python objects instead of tensors. For (1), please define your @tf.function outside of the loop. For (2), @tf.function has reduce_retracing=True option that can avoid unnecessary retracing. For (3), please refer to https://www.tensorflow.org/guide/function#controlling_retracing and https://www.tensorflow.org/api_docs/python/tf/function for  more details.\n",
            "\u001b[1m2/2\u001b[0m \u001b[32m━━━━━━━━━━━━━━━━━━━━\u001b[0m\u001b[37m\u001b[0m \u001b[1m6s\u001b[0m 2s/step\n",
            "Model Name:  resnet50v2\n",
            "Predictions:  [1 3 2 0 2 0 1 3 2 0 2 2 0 0 2 2 2 3 0 3 3 0 0 0 0 3 1 3 0 3 3 2 3 3 2 0 3\n",
            " 0 3 3 0 1 2 0]\n",
            "No of Predictions:  44\n",
            "Predictions Class wise:  (array([0, 1, 2, 3], dtype=int64), array([15,  4, 11, 14], dtype=int64))\n",
            "\n",
            "\u001b[1m2/2\u001b[0m \u001b[32m━━━━━━━━━━━━━━━━━━━━\u001b[0m\u001b[37m\u001b[0m \u001b[1m7s\u001b[0m 3s/step\n",
            "Model Name:  inception_v3\n",
            "Predictions:  [1 1 2 3 2 0 1 3 2 0 2 2 3 0 2 2 2 3 0 0 3 0 1 1 0 3 1 1 0 3 3 2 3 1 2 1 3\n",
            " 0 3 3 0 1 2 0]\n",
            "No of Predictions:  44\n",
            "Predictions Class wise:  (array([0, 1, 2, 3], dtype=int64), array([11, 10, 11, 12], dtype=int64))\n",
            "\n",
            "\u001b[1m2/2\u001b[0m \u001b[32m━━━━━━━━━━━━━━━━━━━━\u001b[0m\u001b[37m\u001b[0m \u001b[1m3s\u001b[0m 1s/step\n",
            "Model Name:  mobilenetv2_1.00_224\n",
            "Predictions:  [1 1 0 3 3 0 3 3 0 0 3 3 3 0 2 3 2 3 0 0 3 3 1 1 3 3 1 1 3 3 3 0 3 1 0 1 3\n",
            " 3 3 3 0 1 0 0]\n",
            "No of Predictions:  44\n",
            "Predictions Class wise:  (array([0, 1, 2, 3], dtype=int64), array([12,  9,  2, 21], dtype=int64))\n",
            "\n",
            "\u001b[1m2/2\u001b[0m \u001b[32m━━━━━━━━━━━━━━━━━━━━\u001b[0m\u001b[37m\u001b[0m \u001b[1m16s\u001b[0m 7s/step\n",
            "Model Name:  densenet201\n",
            "Predictions:  [1 1 2 3 2 0 1 3 2 0 2 2 1 0 2 2 2 3 0 0 3 0 1 1 0 3 1 1 0 3 3 2 3 1 2 1 3\n",
            " 0 3 3 0 1 2 0]\n",
            "No of Predictions:  44\n",
            "Predictions Class wise:  (array([0, 1, 2, 3], dtype=int64), array([11, 11, 11, 11], dtype=int64))\n",
            "\n",
            "\u001b[1m2/2\u001b[0m \u001b[32m━━━━━━━━━━━━━━━━━━━━\u001b[0m\u001b[37m\u001b[0m \u001b[1m16s\u001b[0m 10s/step\n",
            "Model Name:  NASNet\n",
            "Predictions:  [1 1 2 1 2 0 1 3 2 0 2 2 1 0 2 2 2 3 0 0 3 0 1 1 0 3 1 1 0 3 3 2 3 1 2 1 3\n",
            " 1 3 3 0 1 2 1]\n",
            "No of Predictions:  44\n",
            "Predictions Class wise:  (array([0, 1, 2, 3], dtype=int64), array([ 9, 14, 11, 10], dtype=int64))\n",
            "\n",
            "\u001b[1m2/2\u001b[0m \u001b[32m━━━━━━━━━━━━━━━━━━━━\u001b[0m\u001b[37m\u001b[0m \u001b[1m10s\u001b[0m 4s/step\n",
            "Model Name:  efficientnetv2-s\n",
            "Predictions:  [1 1 2 1 3 0 3 3 2 0 2 3 1 0 2 2 2 1 0 3 0 3 3 1 0 3 0 1 0 3 3 2 3 3 2 1 3\n",
            " 0 1 0 1 1 2 0]\n",
            "No of Predictions:  44\n",
            "Predictions Class wise:  (array([0, 1, 2, 3], dtype=int64), array([11, 11,  9, 13], dtype=int64))\n",
            "\n",
            "\u001b[1m2/2\u001b[0m \u001b[32m━━━━━━━━━━━━━━━━━━━━\u001b[0m\u001b[37m\u001b[0m \u001b[1m24s\u001b[0m 8s/step\n",
            "Model Name:  convnext_tiny\n",
            "Predictions:  [1 1 2 1 3 1 3 3 2 0 2 2 0 1 2 2 2 1 1 3 3 1 1 1 0 3 3 1 1 1 1 2 0 1 2 0 3\n",
            " 0 0 0 0 1 2 0]\n",
            "No of Predictions:  44\n",
            "Predictions Class wise:  (array([0, 1, 2, 3], dtype=int64), array([10, 16, 10,  8], dtype=int64))\n",
            "\n"
          ]
        }
      ],
      "source": [
        "# Predictions \n",
        "y_preds = []\n",
        "for model, pre_model in zip(classify_models, pre_trained_models): \n",
        "    predictions = model.predict(input_arr)\n",
        "    y_pred = np.argmax(predictions, axis=1)\n",
        "    print('Model Name: ', pre_model.name)\n",
        "    print('Predictions: ', y_pred)\n",
        "    print('No of Predictions: ', len(y_pred))\n",
        "    print('Predictions Class wise: ', np.unique(y_pred, return_counts=True))\n",
        "    print()\n",
        "    y_preds.append(y_pred)\n"
      ]
    },
    {
      "cell_type": "code",
      "execution_count": 19,
      "metadata": {},
      "outputs": [
        {
          "name": "stdout",
          "output_type": "stream",
          "text": [
            "['adenocarcinoma_left.lower.lobe_T2_N0_M0_Ib', 'large.cell.carcinoma_left.hilum_T2_N2_M0_IIIa', 'normal', 'squamous.cell.carcinoma_left.hilum_T1_N2_M0_IIIa']\n"
          ]
        }
      ],
      "source": [
        "target_names = [x[0] for x in sorted(pred_set.class_indices.items(), key=lambda x: x[1])]\n",
        "print(target_names)"
      ]
    },
    {
      "cell_type": "code",
      "execution_count": 20,
      "metadata": {},
      "outputs": [
        {
          "name": "stdout",
          "output_type": "stream",
          "text": [
            "Model Name:  xception\n",
            "                                                  precision    recall  f1-score   support\n",
            "\n",
            "      adenocarcinoma_left.lower.lobe_T2_N0_M0_Ib       1.00      0.91      0.95        11\n",
            "   large.cell.carcinoma_left.hilum_T2_N2_M0_IIIa       1.00      0.36      0.53        11\n",
            "                                          normal       1.00      1.00      1.00        11\n",
            "squamous.cell.carcinoma_left.hilum_T1_N2_M0_IIIa       0.58      1.00      0.73        11\n",
            "\n",
            "                                        accuracy                           0.82        44\n",
            "                                       macro avg       0.89      0.82      0.80        44\n",
            "                                    weighted avg       0.89      0.82      0.80        44\n",
            "\n",
            "\n",
            "Model Name:  vgg19\n",
            "                                                  precision    recall  f1-score   support\n",
            "\n",
            "      adenocarcinoma_left.lower.lobe_T2_N0_M0_Ib       0.00      0.00      0.00        11\n",
            "   large.cell.carcinoma_left.hilum_T2_N2_M0_IIIa       0.00      0.00      0.00        11\n",
            "                                          normal       0.39      1.00      0.56        11\n",
            "squamous.cell.carcinoma_left.hilum_T1_N2_M0_IIIa       0.25      0.36      0.30        11\n",
            "\n",
            "                                        accuracy                           0.34        44\n",
            "                                       macro avg       0.16      0.34      0.22        44\n",
            "                                    weighted avg       0.16      0.34      0.22        44\n",
            "\n",
            "\n",
            "Model Name:  resnet50v2\n",
            "                                                  precision    recall  f1-score   support\n",
            "\n",
            "      adenocarcinoma_left.lower.lobe_T2_N0_M0_Ib       0.67      0.91      0.77        11\n",
            "   large.cell.carcinoma_left.hilum_T2_N2_M0_IIIa       1.00      0.36      0.53        11\n",
            "                                          normal       1.00      1.00      1.00        11\n",
            "squamous.cell.carcinoma_left.hilum_T1_N2_M0_IIIa       0.71      0.91      0.80        11\n",
            "\n",
            "                                        accuracy                           0.80        44\n",
            "                                       macro avg       0.85      0.80      0.78        44\n",
            "                                    weighted avg       0.85      0.80      0.78        44\n",
            "\n",
            "\n",
            "Model Name:  inception_v3\n",
            "                                                  precision    recall  f1-score   support\n",
            "\n",
            "      adenocarcinoma_left.lower.lobe_T2_N0_M0_Ib       1.00      1.00      1.00        11\n",
            "   large.cell.carcinoma_left.hilum_T2_N2_M0_IIIa       1.00      0.91      0.95        11\n",
            "                                          normal       1.00      1.00      1.00        11\n",
            "squamous.cell.carcinoma_left.hilum_T1_N2_M0_IIIa       0.92      1.00      0.96        11\n",
            "\n",
            "                                        accuracy                           0.98        44\n",
            "                                       macro avg       0.98      0.98      0.98        44\n",
            "                                    weighted avg       0.98      0.98      0.98        44\n",
            "\n",
            "\n",
            "Model Name:  mobilenetv2_1.00_224\n",
            "                                                  precision    recall  f1-score   support\n",
            "\n",
            "      adenocarcinoma_left.lower.lobe_T2_N0_M0_Ib       0.58      0.64      0.61        11\n",
            "   large.cell.carcinoma_left.hilum_T2_N2_M0_IIIa       1.00      0.82      0.90        11\n",
            "                                          normal       1.00      0.18      0.31        11\n",
            "squamous.cell.carcinoma_left.hilum_T1_N2_M0_IIIa       0.52      1.00      0.69        11\n",
            "\n",
            "                                        accuracy                           0.66        44\n",
            "                                       macro avg       0.78      0.66      0.63        44\n",
            "                                    weighted avg       0.78      0.66      0.63        44\n",
            "\n",
            "\n",
            "Model Name:  densenet201\n",
            "                                                  precision    recall  f1-score   support\n",
            "\n",
            "      adenocarcinoma_left.lower.lobe_T2_N0_M0_Ib       1.00      1.00      1.00        11\n",
            "   large.cell.carcinoma_left.hilum_T2_N2_M0_IIIa       1.00      1.00      1.00        11\n",
            "                                          normal       1.00      1.00      1.00        11\n",
            "squamous.cell.carcinoma_left.hilum_T1_N2_M0_IIIa       1.00      1.00      1.00        11\n",
            "\n",
            "                                        accuracy                           1.00        44\n",
            "                                       macro avg       1.00      1.00      1.00        44\n",
            "                                    weighted avg       1.00      1.00      1.00        44\n",
            "\n",
            "\n",
            "Model Name:  NASNet\n",
            "                                                  precision    recall  f1-score   support\n",
            "\n",
            "      adenocarcinoma_left.lower.lobe_T2_N0_M0_Ib       1.00      0.82      0.90        11\n",
            "   large.cell.carcinoma_left.hilum_T2_N2_M0_IIIa       0.79      1.00      0.88        11\n",
            "                                          normal       1.00      1.00      1.00        11\n",
            "squamous.cell.carcinoma_left.hilum_T1_N2_M0_IIIa       1.00      0.91      0.95        11\n",
            "\n",
            "                                        accuracy                           0.93        44\n",
            "                                       macro avg       0.95      0.93      0.93        44\n",
            "                                    weighted avg       0.95      0.93      0.93        44\n",
            "\n",
            "\n",
            "Model Name:  efficientnetv2-s\n",
            "                                                  precision    recall  f1-score   support\n",
            "\n",
            "      adenocarcinoma_left.lower.lobe_T2_N0_M0_Ib       0.73      0.73      0.73        11\n",
            "   large.cell.carcinoma_left.hilum_T2_N2_M0_IIIa       0.64      0.64      0.64        11\n",
            "                                          normal       1.00      0.82      0.90        11\n",
            "squamous.cell.carcinoma_left.hilum_T1_N2_M0_IIIa       0.46      0.55      0.50        11\n",
            "\n",
            "                                        accuracy                           0.68        44\n",
            "                                       macro avg       0.71      0.68      0.69        44\n",
            "                                    weighted avg       0.71      0.68      0.69        44\n",
            "\n",
            "\n",
            "Model Name:  convnext_tiny\n",
            "                                                  precision    recall  f1-score   support\n",
            "\n",
            "      adenocarcinoma_left.lower.lobe_T2_N0_M0_Ib       0.50      0.45      0.48        11\n",
            "   large.cell.carcinoma_left.hilum_T2_N2_M0_IIIa       0.44      0.64      0.52        11\n",
            "                                          normal       1.00      0.91      0.95        11\n",
            "squamous.cell.carcinoma_left.hilum_T1_N2_M0_IIIa       0.50      0.36      0.42        11\n",
            "\n",
            "                                        accuracy                           0.59        44\n",
            "                                       macro avg       0.61      0.59      0.59        44\n",
            "                                    weighted avg       0.61      0.59      0.59        44\n",
            "\n",
            "\n"
          ]
        },
        {
          "data": {
            "text/html": [
              "<div>\n",
              "<style scoped>\n",
              "    .dataframe tbody tr th:only-of-type {\n",
              "        vertical-align: middle;\n",
              "    }\n",
              "\n",
              "    .dataframe tbody tr th {\n",
              "        vertical-align: top;\n",
              "    }\n",
              "\n",
              "    .dataframe thead th {\n",
              "        text-align: right;\n",
              "    }\n",
              "</style>\n",
              "<table border=\"1\" class=\"dataframe\">\n",
              "  <thead>\n",
              "    <tr style=\"text-align: right;\">\n",
              "      <th></th>\n",
              "      <th>No of Layers</th>\n",
              "      <th>No of Conv layers</th>\n",
              "      <th>Total params</th>\n",
              "      <th>Trainable params</th>\n",
              "      <th>Non-trainable params</th>\n",
              "      <th>accuracy</th>\n",
              "      <th>f1-score</th>\n",
              "      <th>recall</th>\n",
              "      <th>support</th>\n",
              "    </tr>\n",
              "    <tr>\n",
              "      <th>Model Name</th>\n",
              "      <th></th>\n",
              "      <th></th>\n",
              "      <th></th>\n",
              "      <th></th>\n",
              "      <th></th>\n",
              "      <th></th>\n",
              "      <th></th>\n",
              "      <th></th>\n",
              "      <th></th>\n",
              "    </tr>\n",
              "  </thead>\n",
              "  <tbody>\n",
              "    <tr>\n",
              "      <th>densenet201</th>\n",
              "      <td>714</td>\n",
              "      <td>692</td>\n",
              "      <td>195.70244M</td>\n",
              "      <td>15.3466M</td>\n",
              "      <td>180.35584M</td>\n",
              "      <td>1.000000</td>\n",
              "      <td>1.000000</td>\n",
              "      <td>1.000000</td>\n",
              "      <td>44.0</td>\n",
              "    </tr>\n",
              "    <tr>\n",
              "      <th>inception_v3</th>\n",
              "      <td>318</td>\n",
              "      <td>94</td>\n",
              "      <td>231.1658M</td>\n",
              "      <td>13.13988M</td>\n",
              "      <td>218.02592M</td>\n",
              "      <td>0.977273</td>\n",
              "      <td>0.977226</td>\n",
              "      <td>0.977273</td>\n",
              "      <td>44.0</td>\n",
              "    </tr>\n",
              "    <tr>\n",
              "      <th>NASNet</th>\n",
              "      <td>776</td>\n",
              "      <td>372</td>\n",
              "      <td>50.75608M</td>\n",
              "      <td>8.06244M</td>\n",
              "      <td>42.69364M</td>\n",
              "      <td>0.931818</td>\n",
              "      <td>0.933095</td>\n",
              "      <td>0.931818</td>\n",
              "      <td>44.0</td>\n",
              "    </tr>\n",
              "    <tr>\n",
              "      <th>xception</th>\n",
              "      <td>139</td>\n",
              "      <td>111</td>\n",
              "      <td>221.75276M</td>\n",
              "      <td>68.10116M</td>\n",
              "      <td>153.6516M</td>\n",
              "      <td>0.818182</td>\n",
              "      <td>0.804762</td>\n",
              "      <td>0.818182</td>\n",
              "      <td>44.0</td>\n",
              "    </tr>\n",
              "    <tr>\n",
              "      <th>resnet50v2</th>\n",
              "      <td>197</td>\n",
              "      <td>182</td>\n",
              "      <td>248.78596M</td>\n",
              "      <td>47.2986M</td>\n",
              "      <td>201.48736M</td>\n",
              "      <td>0.795455</td>\n",
              "      <td>0.775641</td>\n",
              "      <td>0.795455</td>\n",
              "      <td>44.0</td>\n",
              "    </tr>\n",
              "    <tr>\n",
              "      <th>efficientnetv2-s</th>\n",
              "      <td>520</td>\n",
              "      <td>110</td>\n",
              "      <td>212.5194M</td>\n",
              "      <td>18.42756M</td>\n",
              "      <td>194.09184M</td>\n",
              "      <td>0.681818</td>\n",
              "      <td>0.690909</td>\n",
              "      <td>0.681818</td>\n",
              "      <td>44.0</td>\n",
              "    </tr>\n",
              "    <tr>\n",
              "      <th>mobilenetv2_1.00_224</th>\n",
              "      <td>161</td>\n",
              "      <td>5</td>\n",
              "      <td>31.78564M</td>\n",
              "      <td>16.5306M</td>\n",
              "      <td>15.25504M</td>\n",
              "      <td>0.659091</td>\n",
              "      <td>0.625972</td>\n",
              "      <td>0.659091</td>\n",
              "      <td>44.0</td>\n",
              "    </tr>\n",
              "    <tr>\n",
              "      <th>convnext_tiny</th>\n",
              "      <td>140</td>\n",
              "      <td>131</td>\n",
              "      <td>284.78564M</td>\n",
              "      <td>54.23876M</td>\n",
              "      <td>230.54688M</td>\n",
              "      <td>0.590909</td>\n",
              "      <td>0.592036</td>\n",
              "      <td>0.590909</td>\n",
              "      <td>44.0</td>\n",
              "    </tr>\n",
              "    <tr>\n",
              "      <th>vgg19</th>\n",
              "      <td>29</td>\n",
              "      <td>16</td>\n",
              "      <td>205.51748M</td>\n",
              "      <td>182.2618M</td>\n",
              "      <td>23.25568M</td>\n",
              "      <td>0.340909</td>\n",
              "      <td>0.215100</td>\n",
              "      <td>0.340909</td>\n",
              "      <td>44.0</td>\n",
              "    </tr>\n",
              "  </tbody>\n",
              "</table>\n",
              "</div>"
            ],
            "text/plain": [
              "                      No of Layers  No of Conv layers Total params  \\\n",
              "Model Name                                                           \n",
              "densenet201                    714                692   195.70244M   \n",
              "inception_v3                   318                 94    231.1658M   \n",
              "NASNet                         776                372    50.75608M   \n",
              "xception                       139                111   221.75276M   \n",
              "resnet50v2                     197                182   248.78596M   \n",
              "efficientnetv2-s               520                110    212.5194M   \n",
              "mobilenetv2_1.00_224           161                  5    31.78564M   \n",
              "convnext_tiny                  140                131   284.78564M   \n",
              "vgg19                           29                 16   205.51748M   \n",
              "\n",
              "                     Trainable params Non-trainable params  accuracy  \\\n",
              "Model Name                                                             \n",
              "densenet201                  15.3466M           180.35584M  1.000000   \n",
              "inception_v3                13.13988M           218.02592M  0.977273   \n",
              "NASNet                       8.06244M            42.69364M  0.931818   \n",
              "xception                    68.10116M            153.6516M  0.818182   \n",
              "resnet50v2                   47.2986M           201.48736M  0.795455   \n",
              "efficientnetv2-s            18.42756M           194.09184M  0.681818   \n",
              "mobilenetv2_1.00_224         16.5306M            15.25504M  0.659091   \n",
              "convnext_tiny               54.23876M           230.54688M  0.590909   \n",
              "vgg19                       182.2618M            23.25568M  0.340909   \n",
              "\n",
              "                      f1-score    recall  support  \n",
              "Model Name                                         \n",
              "densenet201           1.000000  1.000000     44.0  \n",
              "inception_v3          0.977226  0.977273     44.0  \n",
              "NASNet                0.933095  0.931818     44.0  \n",
              "xception              0.804762  0.818182     44.0  \n",
              "resnet50v2            0.775641  0.795455     44.0  \n",
              "efficientnetv2-s      0.690909  0.681818     44.0  \n",
              "mobilenetv2_1.00_224  0.625972  0.659091     44.0  \n",
              "convnext_tiny         0.592036  0.590909     44.0  \n",
              "vgg19                 0.215100  0.340909     44.0  "
            ]
          },
          "execution_count": 20,
          "metadata": {},
          "output_type": "execute_result"
        }
      ],
      "source": [
        "# Evaluation Metrics\n",
        "result_lst2 = []\n",
        "for model, pre_model, y_pred in zip(classify_models, pre_trained_models, y_preds):\n",
        "    print('Model Name: ', pre_model.name)\n",
        "    report = classification_report(output_lst, y_pred, target_names=target_names, zero_division=0.0)\n",
        "    print(report) \n",
        "    print()\n",
        "    report_dict = classification_report(output_lst, y_pred, target_names=target_names, output_dict=True, zero_division=0.0)\n",
        "    result_lst2.append({\n",
        "        'Model Name': pre_model.name,\n",
        "        'accuracy': report_dict['accuracy'],\n",
        "        'f1-score': report_dict['weighted avg']['f1-score'],\n",
        "        'recall': report_dict['weighted avg']['recall'],\n",
        "        'support': report_dict['weighted avg']['support']\n",
        "    })\n",
        "result_df2 = pd.DataFrame.from_dict(result_lst2)\n",
        "result_df2 = result_df2.set_index('Model Name')\n",
        "result_df = pd.merge(result_df1, result_df2, on=['Model Name'], how='outer')\n",
        "result_df = result_df.sort_values(by=['f1-score'], ascending=[False])\n",
        "result_df"
      ]
    },
    {
      "cell_type": "code",
      "execution_count": 30,
      "metadata": {},
      "outputs": [
        {
          "data": {
            "text/plain": [
              "<Axes: title={'center': 'Evaluation Metrics'}, xlabel='Model Name'>"
            ]
          },
          "execution_count": 30,
          "metadata": {},
          "output_type": "execute_result"
        },
        {
          "data": {
            "image/png": "[encoded data removed]",
            "text/plain": [
              "<Figure size 640x480 with 1 Axes>"
            ]
          },
          "metadata": {},
          "output_type": "display_data"
        }
      ],
      "source": [
        "result_df[['f1-score', 'recall']].plot(title='Evaluation Metrics', rot=90)"
      ]
    },
    {
      "cell_type": "code",
      "execution_count": 21,
      "metadata": {
        "colab": {
          "base_uri": "https://localhost:8080/",
          "height": 448
        },
        "id": "5TSmeXbIIeyO",
        "outputId": "dd8155b2-338f-405a-aba3-b0f754b20b50"
      },
      "outputs": [
        {
          "data": {
            "image/png": "[encoded data removed]",
            "text/plain": [
              "<Figure size 640x480 with 1 Axes>"
            ]
          },
          "metadata": {},
          "output_type": "display_data"
        },
        {
          "data": {
            "image/png": "[encoded data removed]",
            "text/plain": [
              "<Figure size 640x480 with 1 Axes>"
            ]
          },
          "metadata": {},
          "output_type": "display_data"
        },
        {
          "data": {
            "image/png": "[encoded data removed]",
            "text/plain": [
              "<Figure size 640x480 with 1 Axes>"
            ]
          },
          "metadata": {},
          "output_type": "display_data"
        },
        {
          "data": {
            "image/png": "[encoded data removed]",
            "text/plain": [
              "<Figure size 640x480 with 1 Axes>"
            ]
          },
          "metadata": {},
          "output_type": "display_data"
        },
        {
          "ename": "ValueError",
          "evalue": "Format '00_224_lossval_loss' is not supported (supported formats: eps, jpeg, jpg, pdf, pgf, png, ps, raw, rgba, svg, svgz, tif, tiff, webp)",
          "output_type": "error",
          "traceback": [
            "\u001b[1;31m---------------------------------------------------------------------------\u001b[0m",
            "\u001b[1;31mValueError\u001b[0m                                Traceback (most recent call last)",
            "Cell \u001b[1;32mIn[21], line 6\u001b[0m\n\u001b[0;32m      4\u001b[0m plt\u001b[38;5;241m.\u001b[39mplot(hist\u001b[38;5;241m.\u001b[39mhistory[\u001b[38;5;124m'\u001b[39m\u001b[38;5;124mval_loss\u001b[39m\u001b[38;5;124m'\u001b[39m], label\u001b[38;5;241m=\u001b[39m\u001b[38;5;124m'\u001b[39m\u001b[38;5;124mval loss\u001b[39m\u001b[38;5;124m'\u001b[39m)\n\u001b[0;32m      5\u001b[0m plt\u001b[38;5;241m.\u001b[39mlegend()\n\u001b[1;32m----> 6\u001b[0m \u001b[43mplt\u001b[49m\u001b[38;5;241;43m.\u001b[39;49m\u001b[43msavefig\u001b[49m\u001b[43m(\u001b[49m\u001b[43mpre_model\u001b[49m\u001b[38;5;241;43m.\u001b[39;49m\u001b[43mname\u001b[49m\u001b[43m \u001b[49m\u001b[38;5;241;43m+\u001b[39;49m\u001b[43m \u001b[49m\u001b[38;5;124;43m'\u001b[39;49m\u001b[38;5;124;43m_LossVal_loss\u001b[39;49m\u001b[38;5;124;43m'\u001b[39;49m\u001b[43m)\u001b[49m\n\u001b[0;32m      7\u001b[0m plt\u001b[38;5;241m.\u001b[39mshow()\n",
            "File \u001b[1;32mc:\\Users\\surya\\AppData\\Local\\Programs\\Python\\Python312\\Lib\\site-packages\\matplotlib\\pyplot.py:1134\u001b[0m, in \u001b[0;36msavefig\u001b[1;34m(*args, **kwargs)\u001b[0m\n\u001b[0;32m   1131\u001b[0m fig \u001b[38;5;241m=\u001b[39m gcf()\n\u001b[0;32m   1132\u001b[0m \u001b[38;5;66;03m# savefig default implementation has no return, so mypy is unhappy\u001b[39;00m\n\u001b[0;32m   1133\u001b[0m \u001b[38;5;66;03m# presumably this is here because subclasses can return?\u001b[39;00m\n\u001b[1;32m-> 1134\u001b[0m res \u001b[38;5;241m=\u001b[39m \u001b[43mfig\u001b[49m\u001b[38;5;241;43m.\u001b[39;49m\u001b[43msavefig\u001b[49m\u001b[43m(\u001b[49m\u001b[38;5;241;43m*\u001b[39;49m\u001b[43margs\u001b[49m\u001b[43m,\u001b[49m\u001b[43m \u001b[49m\u001b[38;5;241;43m*\u001b[39;49m\u001b[38;5;241;43m*\u001b[39;49m\u001b[43mkwargs\u001b[49m\u001b[43m)\u001b[49m  \u001b[38;5;66;03m# type: ignore[func-returns-value]\u001b[39;00m\n\u001b[0;32m   1135\u001b[0m fig\u001b[38;5;241m.\u001b[39mcanvas\u001b[38;5;241m.\u001b[39mdraw_idle()  \u001b[38;5;66;03m# Need this if 'transparent=True', to reset colors.\u001b[39;00m\n\u001b[0;32m   1136\u001b[0m \u001b[38;5;28;01mreturn\u001b[39;00m res\n",
            "File \u001b[1;32mc:\\Users\\surya\\AppData\\Local\\Programs\\Python\\Python312\\Lib\\site-packages\\matplotlib\\figure.py:3390\u001b[0m, in \u001b[0;36mFigure.savefig\u001b[1;34m(self, fname, transparent, **kwargs)\u001b[0m\n\u001b[0;32m   3388\u001b[0m     \u001b[38;5;28;01mfor\u001b[39;00m ax \u001b[38;5;129;01min\u001b[39;00m \u001b[38;5;28mself\u001b[39m\u001b[38;5;241m.\u001b[39maxes:\n\u001b[0;32m   3389\u001b[0m         _recursively_make_axes_transparent(stack, ax)\n\u001b[1;32m-> 3390\u001b[0m \u001b[38;5;28;43mself\u001b[39;49m\u001b[38;5;241;43m.\u001b[39;49m\u001b[43mcanvas\u001b[49m\u001b[38;5;241;43m.\u001b[39;49m\u001b[43mprint_figure\u001b[49m\u001b[43m(\u001b[49m\u001b[43mfname\u001b[49m\u001b[43m,\u001b[49m\u001b[43m \u001b[49m\u001b[38;5;241;43m*\u001b[39;49m\u001b[38;5;241;43m*\u001b[39;49m\u001b[43mkwargs\u001b[49m\u001b[43m)\u001b[49m\n",
            "File \u001b[1;32mc:\\Users\\surya\\AppData\\Local\\Programs\\Python\\Python312\\Lib\\site-packages\\matplotlib\\backend_bases.py:2133\u001b[0m, in \u001b[0;36mFigureCanvasBase.print_figure\u001b[1;34m(self, filename, dpi, facecolor, edgecolor, orientation, format, bbox_inches, pad_inches, bbox_extra_artists, backend, **kwargs)\u001b[0m\n\u001b[0;32m   2128\u001b[0m     _api\u001b[38;5;241m.\u001b[39mwarn_deprecated(\n\u001b[0;32m   2129\u001b[0m         \u001b[38;5;124m\"\u001b[39m\u001b[38;5;124m3.8\u001b[39m\u001b[38;5;124m\"\u001b[39m, name\u001b[38;5;241m=\u001b[39m\u001b[38;5;124m\"\u001b[39m\u001b[38;5;124mpapertype=\u001b[39m\u001b[38;5;124m'\u001b[39m\u001b[38;5;124mauto\u001b[39m\u001b[38;5;124m'\u001b[39m\u001b[38;5;124m\"\u001b[39m, addendum\u001b[38;5;241m=\u001b[39m\u001b[38;5;124m\"\u001b[39m\u001b[38;5;124mPass an explicit paper type, \u001b[39m\u001b[38;5;124m\"\u001b[39m\n\u001b[0;32m   2130\u001b[0m         \u001b[38;5;124m\"\u001b[39m\u001b[38;5;124m'\u001b[39m\u001b[38;5;124mfigure\u001b[39m\u001b[38;5;124m'\u001b[39m\u001b[38;5;124m, or omit the *papertype* argument entirely.\u001b[39m\u001b[38;5;124m\"\u001b[39m)\n\u001b[0;32m   2132\u001b[0m \u001b[38;5;66;03m# Remove the figure manager, if any, to avoid resizing the GUI widget.\u001b[39;00m\n\u001b[1;32m-> 2133\u001b[0m \u001b[43m\u001b[49m\u001b[38;5;28;43;01mwith\u001b[39;49;00m\u001b[43m \u001b[49m\u001b[43mcbook\u001b[49m\u001b[38;5;241;43m.\u001b[39;49m\u001b[43m_setattr_cm\u001b[49m\u001b[43m(\u001b[49m\u001b[38;5;28;43mself\u001b[39;49m\u001b[43m,\u001b[49m\u001b[43m \u001b[49m\u001b[43mmanager\u001b[49m\u001b[38;5;241;43m=\u001b[39;49m\u001b[38;5;28;43;01mNone\u001b[39;49;00m\u001b[43m)\u001b[49m\u001b[43m,\u001b[49m\u001b[43m \u001b[49m\u001b[43m\\\u001b[49m\n\u001b[0;32m   2134\u001b[0m \u001b[43m     \u001b[49m\u001b[38;5;28;43mself\u001b[39;49m\u001b[38;5;241;43m.\u001b[39;49m\u001b[43m_switch_canvas_and_return_print_method\u001b[49m\u001b[43m(\u001b[49m\u001b[38;5;28;43mformat\u001b[39;49m\u001b[43m,\u001b[49m\u001b[43m \u001b[49m\u001b[43mbackend\u001b[49m\u001b[43m)\u001b[49m\u001b[43m \u001b[49m\u001b[43m\\\u001b[49m\n\u001b[0;32m   2135\u001b[0m \u001b[43m         \u001b[49m\u001b[38;5;28;43;01mas\u001b[39;49;00m\u001b[43m \u001b[49m\u001b[43mprint_method\u001b[49m\u001b[43m,\u001b[49m\u001b[43m \u001b[49m\u001b[43m\\\u001b[49m\n\u001b[0;32m   2136\u001b[0m \u001b[43m     \u001b[49m\u001b[43mcbook\u001b[49m\u001b[38;5;241;43m.\u001b[39;49m\u001b[43m_setattr_cm\u001b[49m\u001b[43m(\u001b[49m\u001b[38;5;28;43mself\u001b[39;49m\u001b[38;5;241;43m.\u001b[39;49m\u001b[43mfigure\u001b[49m\u001b[43m,\u001b[49m\u001b[43m \u001b[49m\u001b[43mdpi\u001b[49m\u001b[38;5;241;43m=\u001b[39;49m\u001b[43mdpi\u001b[49m\u001b[43m)\u001b[49m\u001b[43m,\u001b[49m\u001b[43m \u001b[49m\u001b[43m\\\u001b[49m\n\u001b[0;32m   2137\u001b[0m \u001b[43m     \u001b[49m\u001b[43mcbook\u001b[49m\u001b[38;5;241;43m.\u001b[39;49m\u001b[43m_setattr_cm\u001b[49m\u001b[43m(\u001b[49m\u001b[38;5;28;43mself\u001b[39;49m\u001b[38;5;241;43m.\u001b[39;49m\u001b[43mfigure\u001b[49m\u001b[38;5;241;43m.\u001b[39;49m\u001b[43mcanvas\u001b[49m\u001b[43m,\u001b[49m\u001b[43m \u001b[49m\u001b[43m_device_pixel_ratio\u001b[49m\u001b[38;5;241;43m=\u001b[39;49m\u001b[38;5;241;43m1\u001b[39;49m\u001b[43m)\u001b[49m\u001b[43m,\u001b[49m\u001b[43m \u001b[49m\u001b[43m\\\u001b[49m\n\u001b[0;32m   2138\u001b[0m \u001b[43m     \u001b[49m\u001b[43mcbook\u001b[49m\u001b[38;5;241;43m.\u001b[39;49m\u001b[43m_setattr_cm\u001b[49m\u001b[43m(\u001b[49m\u001b[38;5;28;43mself\u001b[39;49m\u001b[38;5;241;43m.\u001b[39;49m\u001b[43mfigure\u001b[49m\u001b[38;5;241;43m.\u001b[39;49m\u001b[43mcanvas\u001b[49m\u001b[43m,\u001b[49m\u001b[43m \u001b[49m\u001b[43m_is_saving\u001b[49m\u001b[38;5;241;43m=\u001b[39;49m\u001b[38;5;28;43;01mTrue\u001b[39;49;00m\u001b[43m)\u001b[49m\u001b[43m,\u001b[49m\u001b[43m \u001b[49m\u001b[43m\\\u001b[49m\n\u001b[0;32m   2139\u001b[0m \u001b[43m     \u001b[49m\u001b[43mExitStack\u001b[49m\u001b[43m(\u001b[49m\u001b[43m)\u001b[49m\u001b[43m \u001b[49m\u001b[38;5;28;43;01mas\u001b[39;49;00m\u001b[43m \u001b[49m\u001b[43mstack\u001b[49m\u001b[43m:\u001b[49m\n\u001b[0;32m   2141\u001b[0m \u001b[43m    \u001b[49m\u001b[38;5;28;43;01mfor\u001b[39;49;00m\u001b[43m \u001b[49m\u001b[43mprop\u001b[49m\u001b[43m \u001b[49m\u001b[38;5;129;43;01min\u001b[39;49;00m\u001b[43m \u001b[49m\u001b[43m[\u001b[49m\u001b[38;5;124;43m\"\u001b[39;49m\u001b[38;5;124;43mfacecolor\u001b[39;49m\u001b[38;5;124;43m\"\u001b[39;49m\u001b[43m,\u001b[49m\u001b[43m \u001b[49m\u001b[38;5;124;43m\"\u001b[39;49m\u001b[38;5;124;43medgecolor\u001b[39;49m\u001b[38;5;124;43m\"\u001b[39;49m\u001b[43m]\u001b[49m\u001b[43m:\u001b[49m\n\u001b[0;32m   2142\u001b[0m \u001b[43m        \u001b[49m\u001b[43mcolor\u001b[49m\u001b[43m \u001b[49m\u001b[38;5;241;43m=\u001b[39;49m\u001b[43m \u001b[49m\u001b[38;5;28;43mlocals\u001b[39;49m\u001b[43m(\u001b[49m\u001b[43m)\u001b[49m\u001b[43m[\u001b[49m\u001b[43mprop\u001b[49m\u001b[43m]\u001b[49m\n",
            "File \u001b[1;32mc:\\Users\\surya\\AppData\\Local\\Programs\\Python\\Python312\\Lib\\contextlib.py:137\u001b[0m, in \u001b[0;36m_GeneratorContextManager.__enter__\u001b[1;34m(self)\u001b[0m\n\u001b[0;32m    135\u001b[0m \u001b[38;5;28;01mdel\u001b[39;00m \u001b[38;5;28mself\u001b[39m\u001b[38;5;241m.\u001b[39margs, \u001b[38;5;28mself\u001b[39m\u001b[38;5;241m.\u001b[39mkwds, \u001b[38;5;28mself\u001b[39m\u001b[38;5;241m.\u001b[39mfunc\n\u001b[0;32m    136\u001b[0m \u001b[38;5;28;01mtry\u001b[39;00m:\n\u001b[1;32m--> 137\u001b[0m     \u001b[38;5;28;01mreturn\u001b[39;00m \u001b[38;5;28;43mnext\u001b[39;49m\u001b[43m(\u001b[49m\u001b[38;5;28;43mself\u001b[39;49m\u001b[38;5;241;43m.\u001b[39;49m\u001b[43mgen\u001b[49m\u001b[43m)\u001b[49m\n\u001b[0;32m    138\u001b[0m \u001b[38;5;28;01mexcept\u001b[39;00m \u001b[38;5;167;01mStopIteration\u001b[39;00m:\n\u001b[0;32m    139\u001b[0m     \u001b[38;5;28;01mraise\u001b[39;00m \u001b[38;5;167;01mRuntimeError\u001b[39;00m(\u001b[38;5;124m\"\u001b[39m\u001b[38;5;124mgenerator didn\u001b[39m\u001b[38;5;124m'\u001b[39m\u001b[38;5;124mt yield\u001b[39m\u001b[38;5;124m\"\u001b[39m) \u001b[38;5;28;01mfrom\u001b[39;00m \u001b[38;5;28;01mNone\u001b[39;00m\n",
            "File \u001b[1;32mc:\\Users\\surya\\AppData\\Local\\Programs\\Python\\Python312\\Lib\\site-packages\\matplotlib\\backend_bases.py:2029\u001b[0m, in \u001b[0;36mFigureCanvasBase._switch_canvas_and_return_print_method\u001b[1;34m(self, fmt, backend)\u001b[0m\n\u001b[0;32m   2027\u001b[0m     canvas_class \u001b[38;5;241m=\u001b[39m get_registered_canvas_class(fmt)\n\u001b[0;32m   2028\u001b[0m     \u001b[38;5;28;01mif\u001b[39;00m canvas_class \u001b[38;5;129;01mis\u001b[39;00m \u001b[38;5;28;01mNone\u001b[39;00m:\n\u001b[1;32m-> 2029\u001b[0m         \u001b[38;5;28;01mraise\u001b[39;00m \u001b[38;5;167;01mValueError\u001b[39;00m(\n\u001b[0;32m   2030\u001b[0m             \u001b[38;5;124m\"\u001b[39m\u001b[38;5;124mFormat \u001b[39m\u001b[38;5;132;01m{!r}\u001b[39;00m\u001b[38;5;124m is not supported (supported formats: \u001b[39m\u001b[38;5;132;01m{}\u001b[39;00m\u001b[38;5;124m)\u001b[39m\u001b[38;5;124m\"\u001b[39m\u001b[38;5;241m.\u001b[39mformat(\n\u001b[0;32m   2031\u001b[0m                 fmt, \u001b[38;5;124m\"\u001b[39m\u001b[38;5;124m, \u001b[39m\u001b[38;5;124m\"\u001b[39m\u001b[38;5;241m.\u001b[39mjoin(\u001b[38;5;28msorted\u001b[39m(\u001b[38;5;28mself\u001b[39m\u001b[38;5;241m.\u001b[39mget_supported_filetypes()))))\n\u001b[0;32m   2032\u001b[0m     canvas \u001b[38;5;241m=\u001b[39m canvas_class(\u001b[38;5;28mself\u001b[39m\u001b[38;5;241m.\u001b[39mfigure)\n\u001b[0;32m   2033\u001b[0m canvas\u001b[38;5;241m.\u001b[39m_is_saving \u001b[38;5;241m=\u001b[39m \u001b[38;5;28mself\u001b[39m\u001b[38;5;241m.\u001b[39m_is_saving\n",
            "\u001b[1;31mValueError\u001b[0m: Format '00_224_lossval_loss' is not supported (supported formats: eps, jpeg, jpg, pdf, pgf, png, ps, raw, rgba, svg, svgz, tif, tiff, webp)"
          ]
        },
        {
          "data": {
            "image/png": "[encoded data removed]",
            "text/plain": [
              "<Figure size 640x480 with 1 Axes>"
            ]
          },
          "metadata": {},
          "output_type": "display_data"
        }
      ],
      "source": [
        "for hist, model, pre_model in zip(model_hist_lst, classify_models, pre_trained_models):\n",
        "    # plot the loss\n",
        "    plt.plot(hist.history['loss'], label='train loss')\n",
        "    plt.plot(hist.history['val_loss'], label='val loss')\n",
        "    plt.legend()\n",
        "    plt.savefig(pre_model.name + '_LossVal_loss')\n",
        "    plt.show()"
      ]
    },
    {
      "cell_type": "code",
      "execution_count": null,
      "metadata": {},
      "outputs": [],
      "source": []
    }
  ],
  "metadata": {
    "colab": {
      "provenance": []
    },
    "kernelspec": {
      "display_name": "Python 3",
      "name": "python3"
    },
    "language_info": {
      "codemirror_mode": {
        "name": "ipython",
        "version": 3
      },
      "file_extension": ".py",
      "mimetype": "text/x-python",
      "name": "python",
      "nbconvert_exporter": "python",
      "pygments_lexer": "ipython3",
      "version": "3.12.2"
    }
  },
  "nbformat": 4,
  "nbformat_minor": 0
}
